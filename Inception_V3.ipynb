{
  "nbformat": 4,
  "nbformat_minor": 0,
  "metadata": {
    "colab": {
      "provenance": [],
      "gpuType": "T4"
    },
    "kernelspec": {
      "name": "python3",
      "display_name": "Python 3"
    },
    "language_info": {
      "name": "python"
    },
    "accelerator": "GPU"
  },
  "cells": [
    {
      "cell_type": "code",
      "execution_count": 1,
      "metadata": {
        "id": "hJNu1_zGVb3b"
      },
      "outputs": [],
      "source": [
        "# Import libraries\n",
        "import os\n",
        "import numpy as np\n",
        "import tensorflow as tf\n",
        "import matplotlib.pyplot as plt\n",
        "import seaborn as sns\n",
        "from sklearn.metrics import classification_report, confusion_matrix, precision_score, recall_score, f1_score\n",
        "from tensorflow.keras.preprocessing import image_dataset_from_directory\n",
        "from tensorflow.keras.applications.inception_v3 import InceptionV3, preprocess_input"
      ]
    },
    {
      "cell_type": "code",
      "source": [
        "# Upload your Kaggle API key for dataset extraction\n",
        "from google.colab import files\n",
        "files.upload()"
      ],
      "metadata": {
        "colab": {
          "base_uri": "https://localhost:8080/",
          "height": 90
        },
        "id": "HH-d6u6CVtX2",
        "outputId": "7aed9f9e-cf81-469b-bfcc-65b0f5f5806a"
      },
      "execution_count": 2,
      "outputs": [
        {
          "output_type": "display_data",
          "data": {
            "text/plain": [
              "<IPython.core.display.HTML object>"
            ],
            "text/html": [
              "\n",
              "     <input type=\"file\" id=\"files-2a05dd91-a171-4d4f-94e4-618d1fbe6f7d\" name=\"files[]\" multiple disabled\n",
              "        style=\"border:none\" />\n",
              "     <output id=\"result-2a05dd91-a171-4d4f-94e4-618d1fbe6f7d\">\n",
              "      Upload widget is only available when the cell has been executed in the\n",
              "      current browser session. Please rerun this cell to enable.\n",
              "      </output>\n",
              "      <script>// Copyright 2017 Google LLC\n",
              "//\n",
              "// Licensed under the Apache License, Version 2.0 (the \"License\");\n",
              "// you may not use this file except in compliance with the License.\n",
              "// You may obtain a copy of the License at\n",
              "//\n",
              "//      http://www.apache.org/licenses/LICENSE-2.0\n",
              "//\n",
              "// Unless required by applicable law or agreed to in writing, software\n",
              "// distributed under the License is distributed on an \"AS IS\" BASIS,\n",
              "// WITHOUT WARRANTIES OR CONDITIONS OF ANY KIND, either express or implied.\n",
              "// See the License for the specific language governing permissions and\n",
              "// limitations under the License.\n",
              "\n",
              "/**\n",
              " * @fileoverview Helpers for google.colab Python module.\n",
              " */\n",
              "(function(scope) {\n",
              "function span(text, styleAttributes = {}) {\n",
              "  const element = document.createElement('span');\n",
              "  element.textContent = text;\n",
              "  for (const key of Object.keys(styleAttributes)) {\n",
              "    element.style[key] = styleAttributes[key];\n",
              "  }\n",
              "  return element;\n",
              "}\n",
              "\n",
              "// Max number of bytes which will be uploaded at a time.\n",
              "const MAX_PAYLOAD_SIZE = 100 * 1024;\n",
              "\n",
              "function _uploadFiles(inputId, outputId) {\n",
              "  const steps = uploadFilesStep(inputId, outputId);\n",
              "  const outputElement = document.getElementById(outputId);\n",
              "  // Cache steps on the outputElement to make it available for the next call\n",
              "  // to uploadFilesContinue from Python.\n",
              "  outputElement.steps = steps;\n",
              "\n",
              "  return _uploadFilesContinue(outputId);\n",
              "}\n",
              "\n",
              "// This is roughly an async generator (not supported in the browser yet),\n",
              "// where there are multiple asynchronous steps and the Python side is going\n",
              "// to poll for completion of each step.\n",
              "// This uses a Promise to block the python side on completion of each step,\n",
              "// then passes the result of the previous step as the input to the next step.\n",
              "function _uploadFilesContinue(outputId) {\n",
              "  const outputElement = document.getElementById(outputId);\n",
              "  const steps = outputElement.steps;\n",
              "\n",
              "  const next = steps.next(outputElement.lastPromiseValue);\n",
              "  return Promise.resolve(next.value.promise).then((value) => {\n",
              "    // Cache the last promise value to make it available to the next\n",
              "    // step of the generator.\n",
              "    outputElement.lastPromiseValue = value;\n",
              "    return next.value.response;\n",
              "  });\n",
              "}\n",
              "\n",
              "/**\n",
              " * Generator function which is called between each async step of the upload\n",
              " * process.\n",
              " * @param {string} inputId Element ID of the input file picker element.\n",
              " * @param {string} outputId Element ID of the output display.\n",
              " * @return {!Iterable<!Object>} Iterable of next steps.\n",
              " */\n",
              "function* uploadFilesStep(inputId, outputId) {\n",
              "  const inputElement = document.getElementById(inputId);\n",
              "  inputElement.disabled = false;\n",
              "\n",
              "  const outputElement = document.getElementById(outputId);\n",
              "  outputElement.innerHTML = '';\n",
              "\n",
              "  const pickedPromise = new Promise((resolve) => {\n",
              "    inputElement.addEventListener('change', (e) => {\n",
              "      resolve(e.target.files);\n",
              "    });\n",
              "  });\n",
              "\n",
              "  const cancel = document.createElement('button');\n",
              "  inputElement.parentElement.appendChild(cancel);\n",
              "  cancel.textContent = 'Cancel upload';\n",
              "  const cancelPromise = new Promise((resolve) => {\n",
              "    cancel.onclick = () => {\n",
              "      resolve(null);\n",
              "    };\n",
              "  });\n",
              "\n",
              "  // Wait for the user to pick the files.\n",
              "  const files = yield {\n",
              "    promise: Promise.race([pickedPromise, cancelPromise]),\n",
              "    response: {\n",
              "      action: 'starting',\n",
              "    }\n",
              "  };\n",
              "\n",
              "  cancel.remove();\n",
              "\n",
              "  // Disable the input element since further picks are not allowed.\n",
              "  inputElement.disabled = true;\n",
              "\n",
              "  if (!files) {\n",
              "    return {\n",
              "      response: {\n",
              "        action: 'complete',\n",
              "      }\n",
              "    };\n",
              "  }\n",
              "\n",
              "  for (const file of files) {\n",
              "    const li = document.createElement('li');\n",
              "    li.append(span(file.name, {fontWeight: 'bold'}));\n",
              "    li.append(span(\n",
              "        `(${file.type || 'n/a'}) - ${file.size} bytes, ` +\n",
              "        `last modified: ${\n",
              "            file.lastModifiedDate ? file.lastModifiedDate.toLocaleDateString() :\n",
              "                                    'n/a'} - `));\n",
              "    const percent = span('0% done');\n",
              "    li.appendChild(percent);\n",
              "\n",
              "    outputElement.appendChild(li);\n",
              "\n",
              "    const fileDataPromise = new Promise((resolve) => {\n",
              "      const reader = new FileReader();\n",
              "      reader.onload = (e) => {\n",
              "        resolve(e.target.result);\n",
              "      };\n",
              "      reader.readAsArrayBuffer(file);\n",
              "    });\n",
              "    // Wait for the data to be ready.\n",
              "    let fileData = yield {\n",
              "      promise: fileDataPromise,\n",
              "      response: {\n",
              "        action: 'continue',\n",
              "      }\n",
              "    };\n",
              "\n",
              "    // Use a chunked sending to avoid message size limits. See b/62115660.\n",
              "    let position = 0;\n",
              "    do {\n",
              "      const length = Math.min(fileData.byteLength - position, MAX_PAYLOAD_SIZE);\n",
              "      const chunk = new Uint8Array(fileData, position, length);\n",
              "      position += length;\n",
              "\n",
              "      const base64 = btoa(String.fromCharCode.apply(null, chunk));\n",
              "      yield {\n",
              "        response: {\n",
              "          action: 'append',\n",
              "          file: file.name,\n",
              "          data: base64,\n",
              "        },\n",
              "      };\n",
              "\n",
              "      let percentDone = fileData.byteLength === 0 ?\n",
              "          100 :\n",
              "          Math.round((position / fileData.byteLength) * 100);\n",
              "      percent.textContent = `${percentDone}% done`;\n",
              "\n",
              "    } while (position < fileData.byteLength);\n",
              "  }\n",
              "\n",
              "  // All done.\n",
              "  yield {\n",
              "    response: {\n",
              "      action: 'complete',\n",
              "    }\n",
              "  };\n",
              "}\n",
              "\n",
              "scope.google = scope.google || {};\n",
              "scope.google.colab = scope.google.colab || {};\n",
              "scope.google.colab._files = {\n",
              "  _uploadFiles,\n",
              "  _uploadFilesContinue,\n",
              "};\n",
              "})(self);\n",
              "</script> "
            ]
          },
          "metadata": {}
        },
        {
          "output_type": "stream",
          "name": "stdout",
          "text": [
            "Saving kaggle.json to kaggle.json\n"
          ]
        },
        {
          "output_type": "execute_result",
          "data": {
            "text/plain": [
              "{'kaggle.json': b'{\"username\":\"mdabraralzabir\",\"key\":\"b6e9da16433a52f8a2353d7d5c743971\"}'}"
            ]
          },
          "metadata": {},
          "execution_count": 2
        }
      ]
    },
    {
      "cell_type": "code",
      "source": [
        "os.environ['KAGGLE_CONFIG_DIR'] = \"/content\"\n",
        "!kaggle datasets download -d obulisainaren/retinal-oct-c8/"
      ],
      "metadata": {
        "colab": {
          "base_uri": "https://localhost:8080/"
        },
        "id": "6vLHOquXVweK",
        "outputId": "d9aad3bb-3d0e-41d9-ed93-1d40685896d4"
      },
      "execution_count": 3,
      "outputs": [
        {
          "output_type": "stream",
          "name": "stdout",
          "text": [
            "Warning: Your Kaggle API key is readable by other users on this system! To fix this, you can run 'chmod 600 /content/kaggle.json'\n",
            "Dataset URL: https://www.kaggle.com/datasets/obulisainaren/retinal-oct-c8/versions/\n",
            "License(s): CC-BY-NC-SA-4.0\n",
            "Downloading retinal-oct-c8.zip to /content\n",
            "100% 1.41G/1.42G [00:15<00:00, 32.7MB/s]\n",
            "100% 1.42G/1.42G [00:16<00:00, 94.9MB/s]\n"
          ]
        }
      ]
    },
    {
      "cell_type": "code",
      "source": [
        "import zipfile\n",
        "with zipfile.ZipFile('/content/retinal-oct-c8.zip', 'r') as zip_ref:\n",
        "    zip_ref.extractall('/content/dataset/')"
      ],
      "metadata": {
        "id": "S4sZi7BSV2Ez"
      },
      "execution_count": 4,
      "outputs": []
    },
    {
      "cell_type": "code",
      "source": [
        "# Load the dataset using image_dataset_from_directory\n",
        "train_dir = \"/content/dataset/RetinalOCT_Dataset/RetinalOCT_Dataset/train\"\n",
        "val_dir = \"/content/dataset/RetinalOCT_Dataset/RetinalOCT_Dataset/val\"\n",
        "test_dir = \"/content/dataset/RetinalOCT_Dataset/RetinalOCT_Dataset/test\""
      ],
      "metadata": {
        "id": "ijTW_a6eV7zt"
      },
      "execution_count": 5,
      "outputs": []
    },
    {
      "cell_type": "code",
      "source": [
        "# Get class names\n",
        "class_names = sorted(os.listdir(train_dir))\n",
        "print(\"Classes:\", class_names)"
      ],
      "metadata": {
        "colab": {
          "base_uri": "https://localhost:8080/"
        },
        "id": "h4eYNYZzWDXi",
        "outputId": "ce2637c3-2226-4354-c5d6-aed7f2ccf264"
      },
      "execution_count": 6,
      "outputs": [
        {
          "output_type": "stream",
          "name": "stdout",
          "text": [
            "Classes: ['AMD', 'CNV', 'CSR', 'DME', 'DR', 'DRUSEN', 'MH', 'NORMAL']\n"
          ]
        }
      ]
    },
    {
      "cell_type": "code",
      "source": [
        "#1 Load Dataset and Preprocessing\n",
        "IMG_SIZE = (299, 299)  # InceptionV3 input size\n",
        "BATCH_SIZE = 32"
      ],
      "metadata": {
        "id": "4EuB3WrsWExW"
      },
      "execution_count": 7,
      "outputs": []
    },
    {
      "cell_type": "code",
      "source": [
        "# Apply preprocessing function to dataset\n",
        "def preprocess(image, label):\n",
        "    image = tf.image.resize(image, IMG_SIZE)\n",
        "    image = preprocess_input(image)  # InceptionV3-specific preprocessing\n",
        "    return image, label"
      ],
      "metadata": {
        "id": "dllijqUMWI_t"
      },
      "execution_count": 8,
      "outputs": []
    },
    {
      "cell_type": "code",
      "source": [
        "# Load the datasets and apply preprocessing\n",
        "train_dataset = image_dataset_from_directory(train_dir, shuffle=True, batch_size=BATCH_SIZE, image_size=IMG_SIZE)\n",
        "val_dataset = image_dataset_from_directory(val_dir, shuffle=True, batch_size=BATCH_SIZE, image_size=IMG_SIZE)\n",
        "test_dataset = image_dataset_from_directory(test_dir, shuffle=False, batch_size=BATCH_SIZE, image_size=IMG_SIZE)"
      ],
      "metadata": {
        "colab": {
          "base_uri": "https://localhost:8080/"
        },
        "id": "p72CcbtzWO6J",
        "outputId": "28d1cd37-d365-4d7b-9e15-1caa91d63028"
      },
      "execution_count": 9,
      "outputs": [
        {
          "output_type": "stream",
          "name": "stdout",
          "text": [
            "Found 18400 files belonging to 8 classes.\n",
            "Found 2800 files belonging to 8 classes.\n",
            "Found 2800 files belonging to 8 classes.\n"
          ]
        }
      ]
    },
    {
      "cell_type": "code",
      "source": [
        "# Apply preprocessing to datasets\n",
        "train_dataset = train_dataset.map(preprocess)\n",
        "val_dataset = val_dataset.map(preprocess)\n",
        "test_dataset = test_dataset.map(preprocess)"
      ],
      "metadata": {
        "id": "cyyfu8PQWS-w"
      },
      "execution_count": 10,
      "outputs": []
    },
    {
      "cell_type": "code",
      "source": [
        "# Prefetch for performance optimization\n",
        "AUTOTUNE = tf.data.AUTOTUNE\n",
        "train_dataset = train_dataset.prefetch(buffer_size=AUTOTUNE)\n",
        "val_dataset = val_dataset.prefetch(buffer_size=AUTOTUNE)\n",
        "test_dataset = test_dataset.prefetch(buffer_size=AUTOTUNE)"
      ],
      "metadata": {
        "id": "59UJ-GeMWV_c"
      },
      "execution_count": 11,
      "outputs": []
    },
    {
      "cell_type": "code",
      "source": [
        "#2 Data Augmentation & Visualization\n",
        "data_augmentation = tf.keras.Sequential([\n",
        "    tf.keras.layers.RandomFlip(\"horizontal\"),\n",
        "    tf.keras.layers.RandomRotation(0.2),\n",
        "    tf.keras.layers.RandomZoom(0.2),\n",
        "])"
      ],
      "metadata": {
        "id": "eSPPCigNWYyr"
      },
      "execution_count": 12,
      "outputs": []
    },
    {
      "cell_type": "code",
      "source": [
        "# Display first 9 images & labels\n",
        "plt.figure(figsize=(10, 10))\n",
        "for images, labels in train_dataset.take(1):\n",
        "    for i in range(9):\n",
        "        ax = plt.subplot(3, 3, i + 1)\n",
        "        plt.imshow(images[i].numpy().astype(\"uint8\"))\n",
        "        plt.title(class_names[labels[i]])\n",
        "        plt.axis(\"off\")\n",
        "plt.show()"
      ],
      "metadata": {
        "colab": {
          "base_uri": "https://localhost:8080/",
          "height": 829
        },
        "id": "b1mbrcTGWcui",
        "outputId": "d2bae1cd-2202-4576-d225-af33d75c0abd"
      },
      "execution_count": 13,
      "outputs": [
        {
          "output_type": "display_data",
          "data": {
            "text/plain": [
              "<Figure size 1000x1000 with 9 Axes>"
            ],
            "image/png": "[encoded data removed]"
          },
          "metadata": {}
        }
      ]
    },
    {
      "cell_type": "code",
      "source": [
        "#3 Build Model (InceptionV3)\n",
        "base_model = InceptionV3(input_shape=(299, 299, 3), include_top=False, weights='imagenet')"
      ],
      "metadata": {
        "colab": {
          "base_uri": "https://localhost:8080/"
        },
        "id": "YCb-3NiJWl1T",
        "outputId": "f791b288-b8a9-49f5-bf59-e11bcf958120"
      },
      "execution_count": 14,
      "outputs": [
        {
          "output_type": "stream",
          "name": "stdout",
          "text": [
            "Downloading data from https://storage.googleapis.com/tensorflow/keras-applications/inception_v3/inception_v3_weights_tf_dim_ordering_tf_kernels_notop.h5\n",
            "\u001b[1m87910968/87910968\u001b[0m \u001b[32m━━━━━━━━━━━━━━━━━━━━\u001b[0m\u001b[37m\u001b[0m \u001b[1m0s\u001b[0m 0us/step\n"
          ]
        }
      ]
    },
    {
      "cell_type": "code",
      "source": [
        "# Freeze base model\n",
        "base_model.trainable = False\n",
        "\n",
        "# Build model\n",
        "model = tf.keras.Sequential([\n",
        "    data_augmentation,  # Data augmentation applied here\n",
        "    base_model,\n",
        "    tf.keras.layers.GlobalAveragePooling2D(),\n",
        "    tf.keras.layers.Dense(512, activation='relu'),\n",
        "    tf.keras.layers.Dropout(0.5),\n",
        "    tf.keras.layers.Dense(len(class_names), activation='softmax')  # Multi-class classification\n",
        "])\n",
        "\n",
        "# Compile model\n",
        "model.compile(optimizer='adam', loss='sparse_categorical_crossentropy', metrics=['accuracy'])\n",
        "model.summary()"
      ],
      "metadata": {
        "colab": {
          "base_uri": "https://localhost:8080/",
          "height": 357
        },
        "id": "lwCQghWxWqa8",
        "outputId": "b1151927-37ff-408f-a744-ecfbde38946c"
      },
      "execution_count": 15,
      "outputs": [
        {
          "output_type": "display_data",
          "data": {
            "text/plain": [
              "\u001b[1mModel: \"sequential_1\"\u001b[0m\n"
            ],
            "text/html": [
              "<pre style=\"white-space:pre;overflow-x:auto;line-height:normal;font-family:Menlo,'DejaVu Sans Mono',consolas,'Courier New',monospace\"><span style=\"font-weight: bold\">Model: \"sequential_1\"</span>\n",
              "</pre>\n"
            ]
          },
          "metadata": {}
        },
        {
          "output_type": "display_data",
          "data": {
            "text/plain": [
              "┏━━━━━━━━━━━━━━━━━━━━━━━━━━━━━━━━━━━━━━┳━━━━━━━━━━━━━━━━━━━━━━━━━━━━━┳━━━━━━━━━━━━━━━━━┓\n",
              "┃\u001b[1m \u001b[0m\u001b[1mLayer (type)                        \u001b[0m\u001b[1m \u001b[0m┃\u001b[1m \u001b[0m\u001b[1mOutput Shape               \u001b[0m\u001b[1m \u001b[0m┃\u001b[1m \u001b[0m\u001b[1m        Param #\u001b[0m\u001b[1m \u001b[0m┃\n",
              "┡━━━━━━━━━━━━━━━━━━━━━━━━━━━━━━━━━━━━━━╇━━━━━━━━━━━━━━━━━━━━━━━━━━━━━╇━━━━━━━━━━━━━━━━━┩\n",
              "│ sequential (\u001b[38;5;33mSequential\u001b[0m)              │ ?                           │     \u001b[38;5;34m0\u001b[0m (unbuilt) │\n",
              "├──────────────────────────────────────┼─────────────────────────────┼─────────────────┤\n",
              "│ inception_v3 (\u001b[38;5;33mFunctional\u001b[0m)            │ (\u001b[38;5;45mNone\u001b[0m, \u001b[38;5;34m8\u001b[0m, \u001b[38;5;34m8\u001b[0m, \u001b[38;5;34m2048\u001b[0m)          │      \u001b[38;5;34m21,802,784\u001b[0m │\n",
              "├──────────────────────────────────────┼─────────────────────────────┼─────────────────┤\n",
              "│ global_average_pooling2d             │ ?                           │               \u001b[38;5;34m0\u001b[0m │\n",
              "│ (\u001b[38;5;33mGlobalAveragePooling2D\u001b[0m)             │                             │                 │\n",
              "├──────────────────────────────────────┼─────────────────────────────┼─────────────────┤\n",
              "│ dense (\u001b[38;5;33mDense\u001b[0m)                        │ ?                           │     \u001b[38;5;34m0\u001b[0m (unbuilt) │\n",
              "├──────────────────────────────────────┼─────────────────────────────┼─────────────────┤\n",
              "│ dropout (\u001b[38;5;33mDropout\u001b[0m)                    │ ?                           │               \u001b[38;5;34m0\u001b[0m │\n",
              "├──────────────────────────────────────┼─────────────────────────────┼─────────────────┤\n",
              "│ dense_1 (\u001b[38;5;33mDense\u001b[0m)                      │ ?                           │     \u001b[38;5;34m0\u001b[0m (unbuilt) │\n",
              "└──────────────────────────────────────┴─────────────────────────────┴─────────────────┘\n"
            ],
            "text/html": [
              "<pre style=\"white-space:pre;overflow-x:auto;line-height:normal;font-family:Menlo,'DejaVu Sans Mono',consolas,'Courier New',monospace\">┏━━━━━━━━━━━━━━━━━━━━━━━━━━━━━━━━━━━━━━┳━━━━━━━━━━━━━━━━━━━━━━━━━━━━━┳━━━━━━━━━━━━━━━━━┓\n",
              "┃<span style=\"font-weight: bold\"> Layer (type)                         </span>┃<span style=\"font-weight: bold\"> Output Shape                </span>┃<span style=\"font-weight: bold\">         Param # </span>┃\n",
              "┡━━━━━━━━━━━━━━━━━━━━━━━━━━━━━━━━━━━━━━╇━━━━━━━━━━━━━━━━━━━━━━━━━━━━━╇━━━━━━━━━━━━━━━━━┩\n",
              "│ sequential (<span style=\"color: #0087ff; text-decoration-color: #0087ff\">Sequential</span>)              │ ?                           │     <span style=\"color: #00af00; text-decoration-color: #00af00\">0</span> (unbuilt) │\n",
              "├──────────────────────────────────────┼─────────────────────────────┼─────────────────┤\n",
              "│ inception_v3 (<span style=\"color: #0087ff; text-decoration-color: #0087ff\">Functional</span>)            │ (<span style=\"color: #00d7ff; text-decoration-color: #00d7ff\">None</span>, <span style=\"color: #00af00; text-decoration-color: #00af00\">8</span>, <span style=\"color: #00af00; text-decoration-color: #00af00\">8</span>, <span style=\"color: #00af00; text-decoration-color: #00af00\">2048</span>)          │      <span style=\"color: #00af00; text-decoration-color: #00af00\">21,802,784</span> │\n",
              "├──────────────────────────────────────┼─────────────────────────────┼─────────────────┤\n",
              "│ global_average_pooling2d             │ ?                           │               <span style=\"color: #00af00; text-decoration-color: #00af00\">0</span> │\n",
              "│ (<span style=\"color: #0087ff; text-decoration-color: #0087ff\">GlobalAveragePooling2D</span>)             │                             │                 │\n",
              "├──────────────────────────────────────┼─────────────────────────────┼─────────────────┤\n",
              "│ dense (<span style=\"color: #0087ff; text-decoration-color: #0087ff\">Dense</span>)                        │ ?                           │     <span style=\"color: #00af00; text-decoration-color: #00af00\">0</span> (unbuilt) │\n",
              "├──────────────────────────────────────┼─────────────────────────────┼─────────────────┤\n",
              "│ dropout (<span style=\"color: #0087ff; text-decoration-color: #0087ff\">Dropout</span>)                    │ ?                           │               <span style=\"color: #00af00; text-decoration-color: #00af00\">0</span> │\n",
              "├──────────────────────────────────────┼─────────────────────────────┼─────────────────┤\n",
              "│ dense_1 (<span style=\"color: #0087ff; text-decoration-color: #0087ff\">Dense</span>)                      │ ?                           │     <span style=\"color: #00af00; text-decoration-color: #00af00\">0</span> (unbuilt) │\n",
              "└──────────────────────────────────────┴─────────────────────────────┴─────────────────┘\n",
              "</pre>\n"
            ]
          },
          "metadata": {}
        },
        {
          "output_type": "display_data",
          "data": {
            "text/plain": [
              "\u001b[1m Total params: \u001b[0m\u001b[38;5;34m21,802,784\u001b[0m (83.17 MB)\n"
            ],
            "text/html": [
              "<pre style=\"white-space:pre;overflow-x:auto;line-height:normal;font-family:Menlo,'DejaVu Sans Mono',consolas,'Courier New',monospace\"><span style=\"font-weight: bold\"> Total params: </span><span style=\"color: #00af00; text-decoration-color: #00af00\">21,802,784</span> (83.17 MB)\n",
              "</pre>\n"
            ]
          },
          "metadata": {}
        },
        {
          "output_type": "display_data",
          "data": {
            "text/plain": [
              "\u001b[1m Trainable params: \u001b[0m\u001b[38;5;34m0\u001b[0m (0.00 B)\n"
            ],
            "text/html": [
              "<pre style=\"white-space:pre;overflow-x:auto;line-height:normal;font-family:Menlo,'DejaVu Sans Mono',consolas,'Courier New',monospace\"><span style=\"font-weight: bold\"> Trainable params: </span><span style=\"color: #00af00; text-decoration-color: #00af00\">0</span> (0.00 B)\n",
              "</pre>\n"
            ]
          },
          "metadata": {}
        },
        {
          "output_type": "display_data",
          "data": {
            "text/plain": [
              "\u001b[1m Non-trainable params: \u001b[0m\u001b[38;5;34m21,802,784\u001b[0m (83.17 MB)\n"
            ],
            "text/html": [
              "<pre style=\"white-space:pre;overflow-x:auto;line-height:normal;font-family:Menlo,'DejaVu Sans Mono',consolas,'Courier New',monospace\"><span style=\"font-weight: bold\"> Non-trainable params: </span><span style=\"color: #00af00; text-decoration-color: #00af00\">21,802,784</span> (83.17 MB)\n",
              "</pre>\n"
            ]
          },
          "metadata": {}
        }
      ]
    },
    {
      "cell_type": "code",
      "source": [
        "# Train Model with Checkpoints\n",
        "checkpoint_cb = tf.keras.callbacks.ModelCheckpoint(\"best_model.keras\", save_best_only=True, monitor=\"val_accuracy\")"
      ],
      "metadata": {
        "id": "ufJ_pO9_Wuxn"
      },
      "execution_count": 16,
      "outputs": []
    },
    {
      "cell_type": "code",
      "source": [
        "# Train model\n",
        "history = model.fit(train_dataset, validation_data=val_dataset, epochs=25, callbacks=[checkpoint_cb])"
      ],
      "metadata": {
        "colab": {
          "base_uri": "https://localhost:8080/"
        },
        "id": "8YoPhOnXWyND",
        "outputId": "e654a706-44d1-4d80-ff08-2a02d9dc0f26"
      },
      "execution_count": 17,
      "outputs": [
        {
          "output_type": "stream",
          "name": "stdout",
          "text": [
            "Epoch 1/25\n",
            "\u001b[1m575/575\u001b[0m \u001b[32m━━━━━━━━━━━━━━━━━━━━\u001b[0m\u001b[37m\u001b[0m \u001b[1m129s\u001b[0m 201ms/step - accuracy: 0.5153 - loss: 1.3273 - val_accuracy: 0.7579 - val_loss: 0.6495\n",
            "Epoch 2/25\n",
            "\u001b[1m575/575\u001b[0m \u001b[32m━━━━━━━━━━━━━━━━━━━━\u001b[0m\u001b[37m\u001b[0m \u001b[1m107s\u001b[0m 186ms/step - accuracy: 0.7145 - loss: 0.7152 - val_accuracy: 0.7893 - val_loss: 0.5481\n",
            "Epoch 3/25\n",
            "\u001b[1m575/575\u001b[0m \u001b[32m━━━━━━━━━━━━━━━━━━━━\u001b[0m\u001b[37m\u001b[0m \u001b[1m107s\u001b[0m 185ms/step - accuracy: 0.7325 - loss: 0.6693 - val_accuracy: 0.7843 - val_loss: 0.5377\n",
            "Epoch 4/25\n",
            "\u001b[1m575/575\u001b[0m \u001b[32m━━━━━━━━━━━━━━━━━━━━\u001b[0m\u001b[37m\u001b[0m \u001b[1m142s\u001b[0m 185ms/step - accuracy: 0.7537 - loss: 0.6201 - val_accuracy: 0.7979 - val_loss: 0.5076\n",
            "Epoch 5/25\n",
            "\u001b[1m575/575\u001b[0m \u001b[32m━━━━━━━━━━━━━━━━━━━━\u001b[0m\u001b[37m\u001b[0m \u001b[1m107s\u001b[0m 186ms/step - accuracy: 0.7499 - loss: 0.6348 - val_accuracy: 0.7907 - val_loss: 0.5186\n",
            "Epoch 6/25\n",
            "\u001b[1m575/575\u001b[0m \u001b[32m━━━━━━━━━━━━━━━━━━━━\u001b[0m\u001b[37m\u001b[0m \u001b[1m148s\u001b[0m 197ms/step - accuracy: 0.7596 - loss: 0.6127 - val_accuracy: 0.7904 - val_loss: 0.5397\n",
            "Epoch 7/25\n",
            "\u001b[1m575/575\u001b[0m \u001b[32m━━━━━━━━━━━━━━━━━━━━\u001b[0m\u001b[37m\u001b[0m \u001b[1m134s\u001b[0m 184ms/step - accuracy: 0.7633 - loss: 0.5902 - val_accuracy: 0.7932 - val_loss: 0.5295\n",
            "Epoch 8/25\n",
            "\u001b[1m575/575\u001b[0m \u001b[32m━━━━━━━━━━━━━━━━━━━━\u001b[0m\u001b[37m\u001b[0m \u001b[1m143s\u001b[0m 186ms/step - accuracy: 0.7763 - loss: 0.5622 - val_accuracy: 0.8211 - val_loss: 0.4671\n",
            "Epoch 9/25\n",
            "\u001b[1m575/575\u001b[0m \u001b[32m━━━━━━━━━━━━━━━━━━━━\u001b[0m\u001b[37m\u001b[0m \u001b[1m114s\u001b[0m 198ms/step - accuracy: 0.7822 - loss: 0.5616 - val_accuracy: 0.8143 - val_loss: 0.4734\n",
            "Epoch 10/25\n",
            "\u001b[1m575/575\u001b[0m \u001b[32m━━━━━━━━━━━━━━━━━━━━\u001b[0m\u001b[37m\u001b[0m \u001b[1m114s\u001b[0m 198ms/step - accuracy: 0.7882 - loss: 0.5475 - val_accuracy: 0.8157 - val_loss: 0.4712\n",
            "Epoch 11/25\n",
            "\u001b[1m575/575\u001b[0m \u001b[32m━━━━━━━━━━━━━━━━━━━━\u001b[0m\u001b[37m\u001b[0m \u001b[1m135s\u001b[0m 186ms/step - accuracy: 0.7881 - loss: 0.5357 - val_accuracy: 0.8250 - val_loss: 0.4487\n",
            "Epoch 12/25\n",
            "\u001b[1m575/575\u001b[0m \u001b[32m━━━━━━━━━━━━━━━━━━━━\u001b[0m\u001b[37m\u001b[0m \u001b[1m115s\u001b[0m 199ms/step - accuracy: 0.7889 - loss: 0.5422 - val_accuracy: 0.8089 - val_loss: 0.4727\n",
            "Epoch 13/25\n",
            "\u001b[1m575/575\u001b[0m \u001b[32m━━━━━━━━━━━━━━━━━━━━\u001b[0m\u001b[37m\u001b[0m \u001b[1m114s\u001b[0m 199ms/step - accuracy: 0.7885 - loss: 0.5478 - val_accuracy: 0.8182 - val_loss: 0.4654\n",
            "Epoch 14/25\n",
            "\u001b[1m575/575\u001b[0m \u001b[32m━━━━━━━━━━━━━━━━━━━━\u001b[0m\u001b[37m\u001b[0m \u001b[1m108s\u001b[0m 187ms/step - accuracy: 0.7944 - loss: 0.5323 - val_accuracy: 0.8129 - val_loss: 0.4868\n",
            "Epoch 15/25\n",
            "\u001b[1m575/575\u001b[0m \u001b[32m━━━━━━━━━━━━━━━━━━━━\u001b[0m\u001b[37m\u001b[0m \u001b[1m108s\u001b[0m 188ms/step - accuracy: 0.8007 - loss: 0.5178 - val_accuracy: 0.8246 - val_loss: 0.4406\n",
            "Epoch 16/25\n",
            "\u001b[1m575/575\u001b[0m \u001b[32m━━━━━━━━━━━━━━━━━━━━\u001b[0m\u001b[37m\u001b[0m \u001b[1m108s\u001b[0m 187ms/step - accuracy: 0.7985 - loss: 0.5173 - val_accuracy: 0.8246 - val_loss: 0.4486\n",
            "Epoch 17/25\n",
            "\u001b[1m575/575\u001b[0m \u001b[32m━━━━━━━━━━━━━━━━━━━━\u001b[0m\u001b[37m\u001b[0m \u001b[1m116s\u001b[0m 202ms/step - accuracy: 0.7992 - loss: 0.5140 - val_accuracy: 0.8314 - val_loss: 0.4373\n",
            "Epoch 18/25\n",
            "\u001b[1m575/575\u001b[0m \u001b[32m━━━━━━━━━━━━━━━━━━━━\u001b[0m\u001b[37m\u001b[0m \u001b[1m131s\u001b[0m 183ms/step - accuracy: 0.8060 - loss: 0.5058 - val_accuracy: 0.8304 - val_loss: 0.4339\n",
            "Epoch 19/25\n",
            "\u001b[1m575/575\u001b[0m \u001b[32m━━━━━━━━━━━━━━━━━━━━\u001b[0m\u001b[37m\u001b[0m \u001b[1m107s\u001b[0m 186ms/step - accuracy: 0.8008 - loss: 0.5081 - val_accuracy: 0.8236 - val_loss: 0.4424\n",
            "Epoch 20/25\n",
            "\u001b[1m575/575\u001b[0m \u001b[32m━━━━━━━━━━━━━━━━━━━━\u001b[0m\u001b[37m\u001b[0m \u001b[1m148s\u001b[0m 198ms/step - accuracy: 0.7988 - loss: 0.5048 - val_accuracy: 0.8200 - val_loss: 0.4601\n",
            "Epoch 21/25\n",
            "\u001b[1m575/575\u001b[0m \u001b[32m━━━━━━━━━━━━━━━━━━━━\u001b[0m\u001b[37m\u001b[0m \u001b[1m107s\u001b[0m 186ms/step - accuracy: 0.8026 - loss: 0.5075 - val_accuracy: 0.8254 - val_loss: 0.4445\n",
            "Epoch 22/25\n",
            "\u001b[1m575/575\u001b[0m \u001b[32m━━━━━━━━━━━━━━━━━━━━\u001b[0m\u001b[37m\u001b[0m \u001b[1m141s\u001b[0m 184ms/step - accuracy: 0.8033 - loss: 0.5107 - val_accuracy: 0.8314 - val_loss: 0.4356\n",
            "Epoch 23/25\n",
            "\u001b[1m575/575\u001b[0m \u001b[32m━━━━━━━━━━━━━━━━━━━━\u001b[0m\u001b[37m\u001b[0m \u001b[1m149s\u001b[0m 197ms/step - accuracy: 0.8047 - loss: 0.4952 - val_accuracy: 0.8207 - val_loss: 0.4591\n",
            "Epoch 24/25\n",
            "\u001b[1m575/575\u001b[0m \u001b[32m━━━━━━━━━━━━━━━━━━━━\u001b[0m\u001b[37m\u001b[0m \u001b[1m107s\u001b[0m 187ms/step - accuracy: 0.8110 - loss: 0.4797 - val_accuracy: 0.8225 - val_loss: 0.4418\n",
            "Epoch 25/25\n",
            "\u001b[1m575/575\u001b[0m \u001b[32m━━━━━━━━━━━━━━━━━━━━\u001b[0m\u001b[37m\u001b[0m \u001b[1m108s\u001b[0m 188ms/step - accuracy: 0.8133 - loss: 0.4865 - val_accuracy: 0.8354 - val_loss: 0.4410\n"
          ]
        }
      ]
    },
    {
      "cell_type": "code",
      "source": [
        "# Evaluate the model on the test dataset\n",
        "test_loss, test_acc = model.evaluate(test_dataset)\n",
        "print(f\"Test accuracy: {test_acc*100:.2f}%\")"
      ],
      "metadata": {
        "colab": {
          "base_uri": "https://localhost:8080/"
        },
        "id": "MXnvHVqgitap",
        "outputId": "f83a626c-29ce-4a4e-a9d8-4c5da4a1717d"
      },
      "execution_count": 18,
      "outputs": [
        {
          "output_type": "stream",
          "name": "stdout",
          "text": [
            "\u001b[1m88/88\u001b[0m \u001b[32m━━━━━━━━━━━━━━━━━━━━\u001b[0m\u001b[37m\u001b[0m \u001b[1m13s\u001b[0m 150ms/step - accuracy: 0.8721 - loss: 0.3419\n",
            "Test accuracy: 84.43%\n"
          ]
        }
      ]
    },
    {
      "cell_type": "code",
      "source": [
        "# Plot Training & Validation Accuracy/Loss\n",
        "plt.figure(figsize=(12, 4))\n",
        "\n",
        "plt.subplot(1, 2, 1)\n",
        "plt.plot(history.history['accuracy'], label='Train Accuracy')\n",
        "plt.plot(history.history['val_accuracy'], label='Val Accuracy')\n",
        "plt.xlabel('Epochs')\n",
        "plt.ylabel('Accuracy')\n",
        "plt.legend()\n",
        "\n",
        "plt.subplot(1, 2, 2)\n",
        "plt.plot(history.history['loss'], label='Train Loss')\n",
        "plt.plot(history.history['val_loss'], label='Val Loss')\n",
        "plt.xlabel('Epochs')\n",
        "plt.ylabel('Loss')\n",
        "plt.legend()\n",
        "\n",
        "plt.show()"
      ],
      "metadata": {
        "colab": {
          "base_uri": "https://localhost:8080/",
          "height": 388
        },
        "id": "Or9RUJAKi1qf",
        "outputId": "cc99fdc7-aa06-40bd-bb21-8dff0b748eb9"
      },
      "execution_count": 19,
      "outputs": [
        {
          "output_type": "display_data",
          "data": {
            "text/plain": [
              "<Figure size 1200x400 with 2 Axes>"
            ],
            "image/png": "[encoded data removed]"
          },
          "metadata": {}
        }
      ]
    },
    {
      "cell_type": "code",
      "source": [
        "#4 Fine-Tune Model (Unfreeze Layers)\n",
        "base_model.trainable = True\n",
        "model.compile(optimizer=tf.keras.optimizers.Adam(learning_rate=1e-5),\n",
        "              loss='sparse_categorical_crossentropy',\n",
        "              metrics=['accuracy'])"
      ],
      "metadata": {
        "id": "NdB0hxsYi-a1"
      },
      "execution_count": 20,
      "outputs": []
    },
    {
      "cell_type": "code",
      "source": [
        "# Fine-tune model\n",
        "fine_tune_history = model.fit(train_dataset, validation_data=val_dataset, epochs=15, callbacks=[checkpoint_cb])"
      ],
      "metadata": {
        "colab": {
          "base_uri": "https://localhost:8080/"
        },
        "id": "e3EupWL3jDrb",
        "outputId": "1466b656-c99d-4aac-8b17-4f7cc47f5583"
      },
      "execution_count": 21,
      "outputs": [
        {
          "output_type": "stream",
          "name": "stdout",
          "text": [
            "Epoch 1/15\n",
            "\u001b[1m575/575\u001b[0m \u001b[32m━━━━━━━━━━━━━━━━━━━━\u001b[0m\u001b[37m\u001b[0m \u001b[1m423s\u001b[0m 654ms/step - accuracy: 0.6073 - loss: 1.1762 - val_accuracy: 0.8325 - val_loss: 0.4284\n",
            "Epoch 2/15\n",
            "\u001b[1m575/575\u001b[0m \u001b[32m━━━━━━━━━━━━━━━━━━━━\u001b[0m\u001b[37m\u001b[0m \u001b[1m384s\u001b[0m 668ms/step - accuracy: 0.8480 - loss: 0.4100 - val_accuracy: 0.8839 - val_loss: 0.3125\n",
            "Epoch 3/15\n",
            "\u001b[1m575/575\u001b[0m \u001b[32m━━━━━━━━━━━━━━━━━━━━\u001b[0m\u001b[37m\u001b[0m \u001b[1m441s\u001b[0m 665ms/step - accuracy: 0.8967 - loss: 0.2938 - val_accuracy: 0.9175 - val_loss: 0.2329\n",
            "Epoch 4/15\n",
            "\u001b[1m575/575\u001b[0m \u001b[32m━━━━━━━━━━━━━━━━━━━━\u001b[0m\u001b[37m\u001b[0m \u001b[1m441s\u001b[0m 663ms/step - accuracy: 0.9173 - loss: 0.2294 - val_accuracy: 0.9293 - val_loss: 0.2055\n",
            "Epoch 5/15\n",
            "\u001b[1m575/575\u001b[0m \u001b[32m━━━━━━━━━━━━━━━━━━━━\u001b[0m\u001b[37m\u001b[0m \u001b[1m380s\u001b[0m 661ms/step - accuracy: 0.9292 - loss: 0.2059 - val_accuracy: 0.9368 - val_loss: 0.1858\n",
            "Epoch 6/15\n",
            "\u001b[1m575/575\u001b[0m \u001b[32m━━━━━━━━━━━━━━━━━━━━\u001b[0m\u001b[37m\u001b[0m \u001b[1m385s\u001b[0m 670ms/step - accuracy: 0.9392 - loss: 0.1778 - val_accuracy: 0.9332 - val_loss: 0.2142\n",
            "Epoch 7/15\n",
            "\u001b[1m575/575\u001b[0m \u001b[32m━━━━━━━━━━━━━━━━━━━━\u001b[0m\u001b[37m\u001b[0m \u001b[1m384s\u001b[0m 668ms/step - accuracy: 0.9466 - loss: 0.1578 - val_accuracy: 0.9418 - val_loss: 0.1782\n",
            "Epoch 8/15\n",
            "\u001b[1m575/575\u001b[0m \u001b[32m━━━━━━━━━━━━━━━━━━━━\u001b[0m\u001b[37m\u001b[0m \u001b[1m438s\u001b[0m 662ms/step - accuracy: 0.9512 - loss: 0.1504 - val_accuracy: 0.9446 - val_loss: 0.1806\n",
            "Epoch 9/15\n",
            "\u001b[1m575/575\u001b[0m \u001b[32m━━━━━━━━━━━━━━━━━━━━\u001b[0m\u001b[37m\u001b[0m \u001b[1m382s\u001b[0m 662ms/step - accuracy: 0.9567 - loss: 0.1287 - val_accuracy: 0.9554 - val_loss: 0.1383\n",
            "Epoch 10/15\n",
            "\u001b[1m575/575\u001b[0m \u001b[32m━━━━━━━━━━━━━━━━━━━━\u001b[0m\u001b[37m\u001b[0m \u001b[1m379s\u001b[0m 657ms/step - accuracy: 0.9568 - loss: 0.1288 - val_accuracy: 0.9514 - val_loss: 0.1357\n",
            "Epoch 11/15\n",
            "\u001b[1m575/575\u001b[0m \u001b[32m━━━━━━━━━━━━━━━━━━━━\u001b[0m\u001b[37m\u001b[0m \u001b[1m388s\u001b[0m 668ms/step - accuracy: 0.9635 - loss: 0.1108 - val_accuracy: 0.9579 - val_loss: 0.1236\n",
            "Epoch 12/15\n",
            "\u001b[1m575/575\u001b[0m \u001b[32m━━━━━━━━━━━━━━━━━━━━\u001b[0m\u001b[37m\u001b[0m \u001b[1m440s\u001b[0m 665ms/step - accuracy: 0.9627 - loss: 0.1111 - val_accuracy: 0.9614 - val_loss: 0.1311\n",
            "Epoch 13/15\n",
            "\u001b[1m575/575\u001b[0m \u001b[32m━━━━━━━━━━━━━━━━━━━━\u001b[0m\u001b[37m\u001b[0m \u001b[1m378s\u001b[0m 658ms/step - accuracy: 0.9680 - loss: 0.0974 - val_accuracy: 0.9579 - val_loss: 0.1404\n",
            "Epoch 14/15\n",
            "\u001b[1m575/575\u001b[0m \u001b[32m━━━━━━━━━━━━━━━━━━━━\u001b[0m\u001b[37m\u001b[0m \u001b[1m385s\u001b[0m 670ms/step - accuracy: 0.9659 - loss: 0.1009 - val_accuracy: 0.9582 - val_loss: 0.1315\n",
            "Epoch 15/15\n",
            "\u001b[1m575/575\u001b[0m \u001b[32m━━━━━━━━━━━━━━━━━━━━\u001b[0m\u001b[37m\u001b[0m \u001b[1m384s\u001b[0m 668ms/step - accuracy: 0.9699 - loss: 0.0909 - val_accuracy: 0.9657 - val_loss: 0.1146\n"
          ]
        }
      ]
    },
    {
      "cell_type": "code",
      "source": [],
      "metadata": {
        "id": "LVJgQXygDWJQ"
      },
      "execution_count": null,
      "outputs": []
    },
    {
      "cell_type": "code",
      "source": [
        "# Evaluate the model again after fine tuning, on the test dataset\n",
        "test_loss, test_acc = model.evaluate(test_dataset)\n",
        "print(f\"Test accuracy: {test_acc*100:.2f}%\")"
      ],
      "metadata": {
        "colab": {
          "base_uri": "https://localhost:8080/"
        },
        "id": "_MqZ9Xhd6KGA",
        "outputId": "c22e234a-8930-4ac9-b556-122eb95e31c1"
      },
      "execution_count": 22,
      "outputs": [
        {
          "output_type": "stream",
          "name": "stdout",
          "text": [
            "\u001b[1m88/88\u001b[0m \u001b[32m━━━━━━━━━━━━━━━━━━━━\u001b[0m\u001b[37m\u001b[0m \u001b[1m14s\u001b[0m 152ms/step - accuracy: 0.9657 - loss: 0.1165\n",
            "Test accuracy: 96.43%\n"
          ]
        }
      ]
    },
    {
      "cell_type": "code",
      "source": [
        "history = fine_tune_history"
      ],
      "metadata": {
        "id": "9MACNGF26Vaa"
      },
      "execution_count": 23,
      "outputs": []
    },
    {
      "cell_type": "code",
      "source": [
        "#5 Evaluate Model (Accuracy, Predictions, Confidence)\n",
        "y_true, y_pred, y_conf = [], [], []\n",
        "for images, labels in test_dataset:\n",
        "    preds = model.predict(images)\n",
        "    y_true.extend(labels.numpy())\n",
        "    y_pred.extend(np.argmax(preds, axis=1))\n",
        "    y_conf.extend(np.max(preds, axis=1))  # Confidence score"
      ],
      "metadata": {
        "colab": {
          "base_uri": "https://localhost:8080/"
        },
        "id": "LUtYbARE612i",
        "outputId": "259bf5d8-7a6f-41b9-e148-3b10e57e4ec9"
      },
      "execution_count": 25,
      "outputs": [
        {
          "output_type": "stream",
          "name": "stdout",
          "text": [
            "\u001b[1m1/1\u001b[0m \u001b[32m━━━━━━━━━━━━━━━━━━━━\u001b[0m\u001b[37m\u001b[0m \u001b[1m3s\u001b[0m 3s/step\n",
            "\u001b[1m1/1\u001b[0m \u001b[32m━━━━━━━━━━━━━━━━━━━━\u001b[0m\u001b[37m\u001b[0m \u001b[1m0s\u001b[0m 255ms/step\n",
            "\u001b[1m1/1\u001b[0m \u001b[32m━━━━━━━━━━━━━━━━━━━━\u001b[0m\u001b[37m\u001b[0m \u001b[1m0s\u001b[0m 227ms/step\n",
            "\u001b[1m1/1\u001b[0m \u001b[32m━━━━━━━━━━━━━━━━━━━━\u001b[0m\u001b[37m\u001b[0m \u001b[1m0s\u001b[0m 225ms/step\n",
            "\u001b[1m1/1\u001b[0m \u001b[32m━━━━━━━━━━━━━━━━━━━━\u001b[0m\u001b[37m\u001b[0m \u001b[1m0s\u001b[0m 195ms/step\n",
            "\u001b[1m1/1\u001b[0m \u001b[32m━━━━━━━━━━━━━━━━━━━━\u001b[0m\u001b[37m\u001b[0m \u001b[1m0s\u001b[0m 227ms/step\n",
            "\u001b[1m1/1\u001b[0m \u001b[32m━━━━━━━━━━━━━━━━━━━━\u001b[0m\u001b[37m\u001b[0m \u001b[1m0s\u001b[0m 181ms/step\n",
            "\u001b[1m1/1\u001b[0m \u001b[32m━━━━━━━━━━━━━━━━━━━━\u001b[0m\u001b[37m\u001b[0m \u001b[1m0s\u001b[0m 263ms/step\n",
            "\u001b[1m1/1\u001b[0m \u001b[32m━━━━━━━━━━━━━━━━━━━━\u001b[0m\u001b[37m\u001b[0m \u001b[1m0s\u001b[0m 249ms/step\n",
            "\u001b[1m1/1\u001b[0m \u001b[32m━━━━━━━━━━━━━━━━━━━━\u001b[0m\u001b[37m\u001b[0m \u001b[1m0s\u001b[0m 259ms/step\n",
            "\u001b[1m1/1\u001b[0m \u001b[32m━━━━━━━━━━━━━━━━━━━━\u001b[0m\u001b[37m\u001b[0m \u001b[1m0s\u001b[0m 244ms/step\n",
            "\u001b[1m1/1\u001b[0m \u001b[32m━━━━━━━━━━━━━━━━━━━━\u001b[0m\u001b[37m\u001b[0m \u001b[1m0s\u001b[0m 204ms/step\n",
            "\u001b[1m1/1\u001b[0m \u001b[32m━━━━━━━━━━━━━━━━━━━━\u001b[0m\u001b[37m\u001b[0m \u001b[1m0s\u001b[0m 208ms/step\n",
            "\u001b[1m1/1\u001b[0m \u001b[32m━━━━━━━━━━━━━━━━━━━━\u001b[0m\u001b[37m\u001b[0m \u001b[1m0s\u001b[0m 213ms/step\n",
            "\u001b[1m1/1\u001b[0m \u001b[32m━━━━━━━━━━━━━━━━━━━━\u001b[0m\u001b[37m\u001b[0m \u001b[1m0s\u001b[0m 218ms/step\n",
            "\u001b[1m1/1\u001b[0m \u001b[32m━━━━━━━━━━━━━━━━━━━━\u001b[0m\u001b[37m\u001b[0m \u001b[1m0s\u001b[0m 224ms/step\n",
            "\u001b[1m1/1\u001b[0m \u001b[32m━━━━━━━━━━━━━━━━━━━━\u001b[0m\u001b[37m\u001b[0m \u001b[1m0s\u001b[0m 219ms/step\n",
            "\u001b[1m1/1\u001b[0m \u001b[32m━━━━━━━━━━━━━━━━━━━━\u001b[0m\u001b[37m\u001b[0m \u001b[1m0s\u001b[0m 193ms/step\n",
            "\u001b[1m1/1\u001b[0m \u001b[32m━━━━━━━━━━━━━━━━━━━━\u001b[0m\u001b[37m\u001b[0m \u001b[1m0s\u001b[0m 232ms/step\n",
            "\u001b[1m1/1\u001b[0m \u001b[32m━━━━━━━━━━━━━━━━━━━━\u001b[0m\u001b[37m\u001b[0m \u001b[1m0s\u001b[0m 191ms/step\n",
            "\u001b[1m1/1\u001b[0m \u001b[32m━━━━━━━━━━━━━━━━━━━━\u001b[0m\u001b[37m\u001b[0m \u001b[1m0s\u001b[0m 226ms/step\n",
            "\u001b[1m1/1\u001b[0m \u001b[32m━━━━━━━━━━━━━━━━━━━━\u001b[0m\u001b[37m\u001b[0m \u001b[1m0s\u001b[0m 199ms/step\n",
            "\u001b[1m1/1\u001b[0m \u001b[32m━━━━━━━━━━━━━━━━━━━━\u001b[0m\u001b[37m\u001b[0m \u001b[1m0s\u001b[0m 235ms/step\n",
            "\u001b[1m1/1\u001b[0m \u001b[32m━━━━━━━━━━━━━━━━━━━━\u001b[0m\u001b[37m\u001b[0m \u001b[1m0s\u001b[0m 219ms/step\n",
            "\u001b[1m1/1\u001b[0m \u001b[32m━━━━━━━━━━━━━━━━━━━━\u001b[0m\u001b[37m\u001b[0m \u001b[1m0s\u001b[0m 213ms/step\n",
            "\u001b[1m1/1\u001b[0m \u001b[32m━━━━━━━━━━━━━━━━━━━━\u001b[0m\u001b[37m\u001b[0m \u001b[1m0s\u001b[0m 183ms/step\n",
            "\u001b[1m1/1\u001b[0m \u001b[32m━━━━━━━━━━━━━━━━━━━━\u001b[0m\u001b[37m\u001b[0m \u001b[1m0s\u001b[0m 225ms/step\n",
            "\u001b[1m1/1\u001b[0m \u001b[32m━━━━━━━━━━━━━━━━━━━━\u001b[0m\u001b[37m\u001b[0m \u001b[1m0s\u001b[0m 219ms/step\n",
            "\u001b[1m1/1\u001b[0m \u001b[32m━━━━━━━━━━━━━━━━━━━━\u001b[0m\u001b[37m\u001b[0m \u001b[1m0s\u001b[0m 192ms/step\n",
            "\u001b[1m1/1\u001b[0m \u001b[32m━━━━━━━━━━━━━━━━━━━━\u001b[0m\u001b[37m\u001b[0m \u001b[1m0s\u001b[0m 216ms/step\n",
            "\u001b[1m1/1\u001b[0m \u001b[32m━━━━━━━━━━━━━━━━━━━━\u001b[0m\u001b[37m\u001b[0m \u001b[1m0s\u001b[0m 224ms/step\n",
            "\u001b[1m1/1\u001b[0m \u001b[32m━━━━━━━━━━━━━━━━━━━━\u001b[0m\u001b[37m\u001b[0m \u001b[1m0s\u001b[0m 182ms/step\n",
            "\u001b[1m1/1\u001b[0m \u001b[32m━━━━━━━━━━━━━━━━━━━━\u001b[0m\u001b[37m\u001b[0m \u001b[1m0s\u001b[0m 222ms/step\n",
            "\u001b[1m1/1\u001b[0m \u001b[32m━━━━━━━━━━━━━━━━━━━━\u001b[0m\u001b[37m\u001b[0m \u001b[1m0s\u001b[0m 217ms/step\n",
            "\u001b[1m1/1\u001b[0m \u001b[32m━━━━━━━━━━━━━━━━━━━━\u001b[0m\u001b[37m\u001b[0m \u001b[1m0s\u001b[0m 181ms/step\n",
            "\u001b[1m1/1\u001b[0m \u001b[32m━━━━━━━━━━━━━━━━━━━━\u001b[0m\u001b[37m\u001b[0m \u001b[1m0s\u001b[0m 229ms/step\n",
            "\u001b[1m1/1\u001b[0m \u001b[32m━━━━━━━━━━━━━━━━━━━━\u001b[0m\u001b[37m\u001b[0m \u001b[1m0s\u001b[0m 185ms/step\n",
            "\u001b[1m1/1\u001b[0m \u001b[32m━━━━━━━━━━━━━━━━━━━━\u001b[0m\u001b[37m\u001b[0m \u001b[1m0s\u001b[0m 214ms/step\n",
            "\u001b[1m1/1\u001b[0m \u001b[32m━━━━━━━━━━━━━━━━━━━━\u001b[0m\u001b[37m\u001b[0m \u001b[1m0s\u001b[0m 217ms/step\n",
            "\u001b[1m1/1\u001b[0m \u001b[32m━━━━━━━━━━━━━━━━━━━━\u001b[0m\u001b[37m\u001b[0m \u001b[1m0s\u001b[0m 222ms/step\n",
            "\u001b[1m1/1\u001b[0m \u001b[32m━━━━━━━━━━━━━━━━━━━━\u001b[0m\u001b[37m\u001b[0m \u001b[1m0s\u001b[0m 187ms/step\n",
            "\u001b[1m1/1\u001b[0m \u001b[32m━━━━━━━━━━━━━━━━━━━━\u001b[0m\u001b[37m\u001b[0m \u001b[1m0s\u001b[0m 230ms/step\n",
            "\u001b[1m1/1\u001b[0m \u001b[32m━━━━━━━━━━━━━━━━━━━━\u001b[0m\u001b[37m\u001b[0m \u001b[1m0s\u001b[0m 252ms/step\n",
            "\u001b[1m1/1\u001b[0m \u001b[32m━━━━━━━━━━━━━━━━━━━━\u001b[0m\u001b[37m\u001b[0m \u001b[1m0s\u001b[0m 255ms/step\n",
            "\u001b[1m1/1\u001b[0m \u001b[32m━━━━━━━━━━━━━━━━━━━━\u001b[0m\u001b[37m\u001b[0m \u001b[1m0s\u001b[0m 247ms/step\n",
            "\u001b[1m1/1\u001b[0m \u001b[32m━━━━━━━━━━━━━━━━━━━━\u001b[0m\u001b[37m\u001b[0m \u001b[1m0s\u001b[0m 236ms/step\n",
            "\u001b[1m1/1\u001b[0m \u001b[32m━━━━━━━━━━━━━━━━━━━━\u001b[0m\u001b[37m\u001b[0m \u001b[1m0s\u001b[0m 220ms/step\n",
            "\u001b[1m1/1\u001b[0m \u001b[32m━━━━━━━━━━━━━━━━━━━━\u001b[0m\u001b[37m\u001b[0m \u001b[1m0s\u001b[0m 182ms/step\n",
            "\u001b[1m1/1\u001b[0m \u001b[32m━━━━━━━━━━━━━━━━━━━━\u001b[0m\u001b[37m\u001b[0m \u001b[1m0s\u001b[0m 233ms/step\n",
            "\u001b[1m1/1\u001b[0m \u001b[32m━━━━━━━━━━━━━━━━━━━━\u001b[0m\u001b[37m\u001b[0m \u001b[1m0s\u001b[0m 181ms/step\n",
            "\u001b[1m1/1\u001b[0m \u001b[32m━━━━━━━━━━━━━━━━━━━━\u001b[0m\u001b[37m\u001b[0m \u001b[1m0s\u001b[0m 188ms/step\n",
            "\u001b[1m1/1\u001b[0m \u001b[32m━━━━━━━━━━━━━━━━━━━━\u001b[0m\u001b[37m\u001b[0m \u001b[1m0s\u001b[0m 217ms/step\n",
            "\u001b[1m1/1\u001b[0m \u001b[32m━━━━━━━━━━━━━━━━━━━━\u001b[0m\u001b[37m\u001b[0m \u001b[1m0s\u001b[0m 182ms/step\n",
            "\u001b[1m1/1\u001b[0m \u001b[32m━━━━━━━━━━━━━━━━━━━━\u001b[0m\u001b[37m\u001b[0m \u001b[1m0s\u001b[0m 195ms/step\n",
            "\u001b[1m1/1\u001b[0m \u001b[32m━━━━━━━━━━━━━━━━━━━━\u001b[0m\u001b[37m\u001b[0m \u001b[1m0s\u001b[0m 231ms/step\n",
            "\u001b[1m1/1\u001b[0m \u001b[32m━━━━━━━━━━━━━━━━━━━━\u001b[0m\u001b[37m\u001b[0m \u001b[1m0s\u001b[0m 225ms/step\n",
            "\u001b[1m1/1\u001b[0m \u001b[32m━━━━━━━━━━━━━━━━━━━━\u001b[0m\u001b[37m\u001b[0m \u001b[1m0s\u001b[0m 228ms/step\n",
            "\u001b[1m1/1\u001b[0m \u001b[32m━━━━━━━━━━━━━━━━━━━━\u001b[0m\u001b[37m\u001b[0m \u001b[1m0s\u001b[0m 179ms/step\n",
            "\u001b[1m1/1\u001b[0m \u001b[32m━━━━━━━━━━━━━━━━━━━━\u001b[0m\u001b[37m\u001b[0m \u001b[1m0s\u001b[0m 214ms/step\n",
            "\u001b[1m1/1\u001b[0m \u001b[32m━━━━━━━━━━━━━━━━━━━━\u001b[0m\u001b[37m\u001b[0m \u001b[1m0s\u001b[0m 181ms/step\n",
            "\u001b[1m1/1\u001b[0m \u001b[32m━━━━━━━━━━━━━━━━━━━━\u001b[0m\u001b[37m\u001b[0m \u001b[1m0s\u001b[0m 185ms/step\n",
            "\u001b[1m1/1\u001b[0m \u001b[32m━━━━━━━━━━━━━━━━━━━━\u001b[0m\u001b[37m\u001b[0m \u001b[1m0s\u001b[0m 220ms/step\n",
            "\u001b[1m1/1\u001b[0m \u001b[32m━━━━━━━━━━━━━━━━━━━━\u001b[0m\u001b[37m\u001b[0m \u001b[1m0s\u001b[0m 222ms/step\n",
            "\u001b[1m1/1\u001b[0m \u001b[32m━━━━━━━━━━━━━━━━━━━━\u001b[0m\u001b[37m\u001b[0m \u001b[1m0s\u001b[0m 232ms/step\n",
            "\u001b[1m1/1\u001b[0m \u001b[32m━━━━━━━━━━━━━━━━━━━━\u001b[0m\u001b[37m\u001b[0m \u001b[1m0s\u001b[0m 222ms/step\n",
            "\u001b[1m1/1\u001b[0m \u001b[32m━━━━━━━━━━━━━━━━━━━━\u001b[0m\u001b[37m\u001b[0m \u001b[1m0s\u001b[0m 227ms/step\n",
            "\u001b[1m1/1\u001b[0m \u001b[32m━━━━━━━━━━━━━━━━━━━━\u001b[0m\u001b[37m\u001b[0m \u001b[1m0s\u001b[0m 189ms/step\n",
            "\u001b[1m1/1\u001b[0m \u001b[32m━━━━━━━━━━━━━━━━━━━━\u001b[0m\u001b[37m\u001b[0m \u001b[1m0s\u001b[0m 180ms/step\n",
            "\u001b[1m1/1\u001b[0m \u001b[32m━━━━━━━━━━━━━━━━━━━━\u001b[0m\u001b[37m\u001b[0m \u001b[1m0s\u001b[0m 218ms/step\n",
            "\u001b[1m1/1\u001b[0m \u001b[32m━━━━━━━━━━━━━━━━━━━━\u001b[0m\u001b[37m\u001b[0m \u001b[1m0s\u001b[0m 180ms/step\n",
            "\u001b[1m1/1\u001b[0m \u001b[32m━━━━━━━━━━━━━━━━━━━━\u001b[0m\u001b[37m\u001b[0m \u001b[1m0s\u001b[0m 219ms/step\n",
            "\u001b[1m1/1\u001b[0m \u001b[32m━━━━━━━━━━━━━━━━━━━━\u001b[0m\u001b[37m\u001b[0m \u001b[1m0s\u001b[0m 232ms/step\n",
            "\u001b[1m1/1\u001b[0m \u001b[32m━━━━━━━━━━━━━━━━━━━━\u001b[0m\u001b[37m\u001b[0m \u001b[1m0s\u001b[0m 228ms/step\n",
            "\u001b[1m1/1\u001b[0m \u001b[32m━━━━━━━━━━━━━━━━━━━━\u001b[0m\u001b[37m\u001b[0m \u001b[1m0s\u001b[0m 220ms/step\n",
            "\u001b[1m1/1\u001b[0m \u001b[32m━━━━━━━━━━━━━━━━━━━━\u001b[0m\u001b[37m\u001b[0m \u001b[1m0s\u001b[0m 189ms/step\n",
            "\u001b[1m1/1\u001b[0m \u001b[32m━━━━━━━━━━━━━━━━━━━━\u001b[0m\u001b[37m\u001b[0m \u001b[1m0s\u001b[0m 221ms/step\n",
            "\u001b[1m1/1\u001b[0m \u001b[32m━━━━━━━━━━━━━━━━━━━━\u001b[0m\u001b[37m\u001b[0m \u001b[1m0s\u001b[0m 246ms/step\n",
            "\u001b[1m1/1\u001b[0m \u001b[32m━━━━━━━━━━━━━━━━━━━━\u001b[0m\u001b[37m\u001b[0m \u001b[1m0s\u001b[0m 258ms/step\n",
            "\u001b[1m1/1\u001b[0m \u001b[32m━━━━━━━━━━━━━━━━━━━━\u001b[0m\u001b[37m\u001b[0m \u001b[1m0s\u001b[0m 275ms/step\n",
            "\u001b[1m1/1\u001b[0m \u001b[32m━━━━━━━━━━━━━━━━━━━━\u001b[0m\u001b[37m\u001b[0m \u001b[1m0s\u001b[0m 275ms/step\n",
            "\u001b[1m1/1\u001b[0m \u001b[32m━━━━━━━━━━━━━━━━━━━━\u001b[0m\u001b[37m\u001b[0m \u001b[1m0s\u001b[0m 253ms/step\n",
            "\u001b[1m1/1\u001b[0m \u001b[32m━━━━━━━━━━━━━━━━━━━━\u001b[0m\u001b[37m\u001b[0m \u001b[1m0s\u001b[0m 181ms/step\n",
            "\u001b[1m1/1\u001b[0m \u001b[32m━━━━━━━━━━━━━━━━━━━━\u001b[0m\u001b[37m\u001b[0m \u001b[1m0s\u001b[0m 179ms/step\n",
            "\u001b[1m1/1\u001b[0m \u001b[32m━━━━━━━━━━━━━━━━━━━━\u001b[0m\u001b[37m\u001b[0m \u001b[1m0s\u001b[0m 182ms/step\n",
            "\u001b[1m1/1\u001b[0m \u001b[32m━━━━━━━━━━━━━━━━━━━━\u001b[0m\u001b[37m\u001b[0m \u001b[1m0s\u001b[0m 184ms/step\n",
            "\u001b[1m1/1\u001b[0m \u001b[32m━━━━━━━━━━━━━━━━━━━━\u001b[0m\u001b[37m\u001b[0m \u001b[1m0s\u001b[0m 187ms/step\n",
            "\u001b[1m1/1\u001b[0m \u001b[32m━━━━━━━━━━━━━━━━━━━━\u001b[0m\u001b[37m\u001b[0m \u001b[1m0s\u001b[0m 183ms/step\n",
            "\u001b[1m1/1\u001b[0m \u001b[32m━━━━━━━━━━━━━━━━━━━━\u001b[0m\u001b[37m\u001b[0m \u001b[1m2s\u001b[0m 2s/step\n"
          ]
        }
      ]
    },
    {
      "cell_type": "code",
      "source": [
        "# Print sample predictions\n",
        "for i in range(10):\n",
        "    print(f\"Actual: {class_names[y_true[i]]}, Predicted: {class_names[y_pred[i]]}, Confidence: {y_conf[i]:.2f}\")"
      ],
      "metadata": {
        "colab": {
          "base_uri": "https://localhost:8080/"
        },
        "id": "IFbA3CkB7EVd",
        "outputId": "deaa3f9c-8a4c-4e82-af32-6ccac7f36a86"
      },
      "execution_count": 26,
      "outputs": [
        {
          "output_type": "stream",
          "name": "stdout",
          "text": [
            "Actual: AMD, Predicted: AMD, Confidence: 1.00\n",
            "Actual: AMD, Predicted: AMD, Confidence: 1.00\n",
            "Actual: AMD, Predicted: AMD, Confidence: 1.00\n",
            "Actual: AMD, Predicted: AMD, Confidence: 1.00\n",
            "Actual: AMD, Predicted: AMD, Confidence: 1.00\n",
            "Actual: AMD, Predicted: AMD, Confidence: 1.00\n",
            "Actual: AMD, Predicted: AMD, Confidence: 1.00\n",
            "Actual: AMD, Predicted: AMD, Confidence: 1.00\n",
            "Actual: AMD, Predicted: AMD, Confidence: 1.00\n",
            "Actual: AMD, Predicted: AMD, Confidence: 1.00\n"
          ]
        }
      ]
    },
    {
      "cell_type": "code",
      "source": [
        "# Manually select specific images from test set (adjust indices as needed)\n",
        "specific_indices = [0, 351, 701, 1051, 1401, 1751, 2120, 2455]  # Change based on dataset size\n",
        "\n",
        "plt.figure(figsize=(15, 20))\n",
        "for i, idx in enumerate(specific_indices):\n",
        "    image, label = test_dataset.unbatch().skip(idx).take(1).as_numpy_iterator().next()\n",
        "\n",
        "    # Preprocess image for model\n",
        "    img_array = tf.expand_dims(image, 0)  # Convert to batch format\n",
        "    predictions = model.predict(img_array)\n",
        "\n",
        "    predicted_class = class_names[np.argmax(predictions[0])]\n",
        "    confidence = round(100 * np.max(predictions[0]), 2)\n",
        "    actual_class = class_names[label]\n",
        "\n",
        "    # Plot\n",
        "    ax = plt.subplot(3, 3, i + 1)\n",
        "    plt.imshow(image.astype(\"uint8\"))\n",
        "    plt.title(f\"Actual: {actual_class}\\nPredicted: {predicted_class}\\nConfidence: {confidence}%\")\n",
        "    plt.axis(\"off\")\n",
        "\n",
        "plt.show()\n"
      ],
      "metadata": {
        "colab": {
          "base_uri": "https://localhost:8080/",
          "height": 1000
        },
        "id": "ug4Seedp-aeQ",
        "outputId": "2987a8f3-fa93-4e56-8ed8-8fb656a31863"
      },
      "execution_count": 40,
      "outputs": [
        {
          "output_type": "stream",
          "name": "stdout",
          "text": [
            "\u001b[1m1/1\u001b[0m \u001b[32m━━━━━━━━━━━━━━━━━━━━\u001b[0m\u001b[37m\u001b[0m \u001b[1m0s\u001b[0m 72ms/step\n",
            "\u001b[1m1/1\u001b[0m \u001b[32m━━━━━━━━━━━━━━━━━━━━\u001b[0m\u001b[37m\u001b[0m \u001b[1m0s\u001b[0m 74ms/step\n",
            "\u001b[1m1/1\u001b[0m \u001b[32m━━━━━━━━━━━━━━━━━━━━\u001b[0m\u001b[37m\u001b[0m \u001b[1m0s\u001b[0m 54ms/step\n",
            "\u001b[1m1/1\u001b[0m \u001b[32m━━━━━━━━━━━━━━━━━━━━\u001b[0m\u001b[37m\u001b[0m \u001b[1m0s\u001b[0m 53ms/step\n",
            "\u001b[1m1/1\u001b[0m \u001b[32m━━━━━━━━━━━━━━━━━━━━\u001b[0m\u001b[37m\u001b[0m \u001b[1m0s\u001b[0m 55ms/step\n",
            "\u001b[1m1/1\u001b[0m \u001b[32m━━━━━━━━━━━━━━━━━━━━\u001b[0m\u001b[37m\u001b[0m \u001b[1m0s\u001b[0m 56ms/step\n",
            "\u001b[1m1/1\u001b[0m \u001b[32m━━━━━━━━━━━━━━━━━━━━\u001b[0m\u001b[37m\u001b[0m \u001b[1m0s\u001b[0m 55ms/step\n",
            "\u001b[1m1/1\u001b[0m \u001b[32m━━━━━━━━━━━━━━━━━━━━\u001b[0m\u001b[37m\u001b[0m \u001b[1m0s\u001b[0m 53ms/step\n"
          ]
        },
        {
          "output_type": "display_data",
          "data": {
            "text/plain": [
              "<Figure size 1500x2000 with 8 Axes>"
            ],
            "image/png": "[encoded data removed]"
          },
          "metadata": {}
        }
      ]
    },
    {
      "cell_type": "code",
      "source": [
        "# Compute Precision, Recall, F1-score\n",
        "precision = precision_score(y_true, y_pred, average='weighted')\n",
        "recall = recall_score(y_true, y_pred, average='weighted')\n",
        "f1 = f1_score(y_true, y_pred, average='weighted')\n",
        "\n",
        "print(f\"Precision: {precision:.4f}\")\n",
        "print(f\"Recall: {recall:.4f}\")\n",
        "print(f\"F1-score: {f1:.4f}\")"
      ],
      "metadata": {
        "colab": {
          "base_uri": "https://localhost:8080/"
        },
        "id": "xJfYi6k77tys",
        "outputId": "acd4f5fb-9db6-41b1-d95a-e127e3f57b54"
      },
      "execution_count": 41,
      "outputs": [
        {
          "output_type": "stream",
          "name": "stdout",
          "text": [
            "Precision: 0.9649\n",
            "Recall: 0.9643\n",
            "F1-score: 0.9644\n"
          ]
        }
      ]
    },
    {
      "cell_type": "code",
      "source": [
        "# Save model in TensorFlow's recommended `.keras` format\n",
        "model.save(\"/content/inceptionv3.keras\")"
      ],
      "metadata": {
        "id": "79q9cjuP_Z1Z"
      },
      "execution_count": 42,
      "outputs": []
    },
    {
      "cell_type": "code",
      "source": [
        "model.export(\"/content/inceptionv3e\")"
      ],
      "metadata": {
        "colab": {
          "base_uri": "https://localhost:8080/"
        },
        "collapsed": true,
        "id": "MZM2sK8eEPHg",
        "outputId": "b58cb09e-8b92-4e64-e8f0-b35c5777c958"
      },
      "execution_count": 45,
      "outputs": [
        {
          "output_type": "stream",
          "name": "stdout",
          "text": [
            "Saved artifact at '/content/inceptionv3e'. The following endpoints are available:\n",
            "\n",
            "* Endpoint 'serve'\n",
            "  args_0 (POSITIONAL_ONLY): TensorSpec(shape=(None, 299, 299, 3), dtype=tf.float32, name='keras_tensor_311')\n",
            "Output Type:\n",
            "  TensorSpec(shape=(None, 8), dtype=tf.float32, name=None)\n",
            "Captures:\n",
            "  136985758861264: TensorSpec(shape=(), dtype=tf.resource, name=None)\n",
            "  136985758862800: TensorSpec(shape=(), dtype=tf.resource, name=None)\n",
            "  136985758863568: TensorSpec(shape=(), dtype=tf.resource, name=None)\n",
            "  136985758873744: TensorSpec(shape=(), dtype=tf.resource, name=None)\n",
            "  136985758874320: TensorSpec(shape=(), dtype=tf.resource, name=None)\n",
            "  136985758873936: TensorSpec(shape=(), dtype=tf.resource, name=None)\n",
            "  136985758875088: TensorSpec(shape=(), dtype=tf.resource, name=None)\n",
            "  136985758875280: TensorSpec(shape=(), dtype=tf.resource, name=None)\n",
            "  136985701303312: TensorSpec(shape=(), dtype=tf.resource, name=None)\n",
            "  136985701303504: TensorSpec(shape=(), dtype=tf.resource, name=None)\n",
            "  136985701302544: TensorSpec(shape=(), dtype=tf.resource, name=None)\n",
            "  136985701303888: TensorSpec(shape=(), dtype=tf.resource, name=None)\n",
            "  136985701305232: TensorSpec(shape=(), dtype=tf.resource, name=None)\n",
            "  136985701304272: TensorSpec(shape=(), dtype=tf.resource, name=None)\n",
            "  136985701304848: TensorSpec(shape=(), dtype=tf.resource, name=None)\n",
            "  136985701306960: TensorSpec(shape=(), dtype=tf.resource, name=None)\n",
            "  136985701307152: TensorSpec(shape=(), dtype=tf.resource, name=None)\n",
            "  136985701308304: TensorSpec(shape=(), dtype=tf.resource, name=None)\n",
            "  136985701308496: TensorSpec(shape=(), dtype=tf.resource, name=None)\n",
            "  136985701309456: TensorSpec(shape=(), dtype=tf.resource, name=None)\n",
            "  136985701308688: TensorSpec(shape=(), dtype=tf.resource, name=None)\n",
            "  136985701309072: TensorSpec(shape=(), dtype=tf.resource, name=None)\n",
            "  136985701309648: TensorSpec(shape=(), dtype=tf.resource, name=None)\n",
            "  136985701310608: TensorSpec(shape=(), dtype=tf.resource, name=None)\n",
            "  136985701313680: TensorSpec(shape=(), dtype=tf.resource, name=None)\n",
            "  136985701315984: TensorSpec(shape=(), dtype=tf.resource, name=None)\n",
            "  136985701316176: TensorSpec(shape=(), dtype=tf.resource, name=None)\n",
            "  136985701314640: TensorSpec(shape=(), dtype=tf.resource, name=None)\n",
            "  136985761173520: TensorSpec(shape=(), dtype=tf.resource, name=None)\n",
            "  136985701315408: TensorSpec(shape=(), dtype=tf.resource, name=None)\n",
            "  136985701317712: TensorSpec(shape=(), dtype=tf.resource, name=None)\n",
            "  136985701317904: TensorSpec(shape=(), dtype=tf.resource, name=None)\n",
            "  136985701307728: TensorSpec(shape=(), dtype=tf.resource, name=None)\n",
            "  136985701310992: TensorSpec(shape=(), dtype=tf.resource, name=None)\n",
            "  136985761172560: TensorSpec(shape=(), dtype=tf.resource, name=None)\n",
            "  136985701500688: TensorSpec(shape=(), dtype=tf.resource, name=None)\n",
            "  136985701317136: TensorSpec(shape=(), dtype=tf.resource, name=None)\n",
            "  136985701307920: TensorSpec(shape=(), dtype=tf.resource, name=None)\n",
            "  136985701311376: TensorSpec(shape=(), dtype=tf.resource, name=None)\n",
            "  136985701499920: TensorSpec(shape=(), dtype=tf.resource, name=None)\n",
            "  136985701501072: TensorSpec(shape=(), dtype=tf.resource, name=None)\n",
            "  136985701501264: TensorSpec(shape=(), dtype=tf.resource, name=None)\n",
            "  136985701316368: TensorSpec(shape=(), dtype=tf.resource, name=None)\n",
            "  136985701500112: TensorSpec(shape=(), dtype=tf.resource, name=None)\n",
            "  136985701318480: TensorSpec(shape=(), dtype=tf.resource, name=None)\n",
            "  136985701312912: TensorSpec(shape=(), dtype=tf.resource, name=None)\n",
            "  136985701314256: TensorSpec(shape=(), dtype=tf.resource, name=None)\n",
            "  136985701314448: TensorSpec(shape=(), dtype=tf.resource, name=None)\n",
            "  136985701309840: TensorSpec(shape=(), dtype=tf.resource, name=None)\n",
            "  136985701311760: TensorSpec(shape=(), dtype=tf.resource, name=None)\n",
            "  136985701311952: TensorSpec(shape=(), dtype=tf.resource, name=None)\n",
            "  136985701506832: TensorSpec(shape=(), dtype=tf.resource, name=None)\n",
            "  136985701502992: TensorSpec(shape=(), dtype=tf.resource, name=None)\n",
            "  136985701507216: TensorSpec(shape=(), dtype=tf.resource, name=None)\n",
            "  136985701507408: TensorSpec(shape=(), dtype=tf.resource, name=None)\n",
            "  136985701508368: TensorSpec(shape=(), dtype=tf.resource, name=None)\n",
            "  136985701503760: TensorSpec(shape=(), dtype=tf.resource, name=None)\n",
            "  136985701504528: TensorSpec(shape=(), dtype=tf.resource, name=None)\n",
            "  136985701508752: TensorSpec(shape=(), dtype=tf.resource, name=None)\n",
            "  136985701508944: TensorSpec(shape=(), dtype=tf.resource, name=None)\n",
            "  136985701499152: TensorSpec(shape=(), dtype=tf.resource, name=None)\n",
            "  136985701504144: TensorSpec(shape=(), dtype=tf.resource, name=None)\n",
            "  136985701504336: TensorSpec(shape=(), dtype=tf.resource, name=None)\n",
            "  136985701511440: TensorSpec(shape=(), dtype=tf.resource, name=None)\n",
            "  136985701509904: TensorSpec(shape=(), dtype=tf.resource, name=None)\n",
            "  136985701505296: TensorSpec(shape=(), dtype=tf.resource, name=None)\n",
            "  136985701502224: TensorSpec(shape=(), dtype=tf.resource, name=None)\n",
            "  136985701507600: TensorSpec(shape=(), dtype=tf.resource, name=None)\n",
            "  136985701511824: TensorSpec(shape=(), dtype=tf.resource, name=None)\n",
            "  136985701512016: TensorSpec(shape=(), dtype=tf.resource, name=None)\n",
            "  136985701506064: TensorSpec(shape=(), dtype=tf.resource, name=None)\n",
            "  136985701510288: TensorSpec(shape=(), dtype=tf.resource, name=None)\n",
            "  136985701510480: TensorSpec(shape=(), dtype=tf.resource, name=None)\n",
            "  136985701501456: TensorSpec(shape=(), dtype=tf.resource, name=None)\n",
            "  136985701505680: TensorSpec(shape=(), dtype=tf.resource, name=None)\n",
            "  136985701505872: TensorSpec(shape=(), dtype=tf.resource, name=None)\n",
            "  136985701499536: TensorSpec(shape=(), dtype=tf.resource, name=None)\n",
            "  136985701502608: TensorSpec(shape=(), dtype=tf.resource, name=None)\n",
            "  136985701502800: TensorSpec(shape=(), dtype=tf.resource, name=None)\n",
            "  136985706023248: TensorSpec(shape=(), dtype=tf.resource, name=None)\n",
            "  136985706021712: TensorSpec(shape=(), dtype=tf.resource, name=None)\n",
            "  136985706023632: TensorSpec(shape=(), dtype=tf.resource, name=None)\n",
            "  136985706023824: TensorSpec(shape=(), dtype=tf.resource, name=None)\n",
            "  136985706024784: TensorSpec(shape=(), dtype=tf.resource, name=None)\n",
            "  136985701514512: TensorSpec(shape=(), dtype=tf.resource, name=None)\n",
            "  136985706021328: TensorSpec(shape=(), dtype=tf.resource, name=None)\n",
            "  136985706025168: TensorSpec(shape=(), dtype=tf.resource, name=None)\n",
            "  136985706025360: TensorSpec(shape=(), dtype=tf.resource, name=None)\n",
            "  136985701513744: TensorSpec(shape=(), dtype=tf.resource, name=None)\n",
            "  136985701515088: TensorSpec(shape=(), dtype=tf.resource, name=None)\n",
            "  136985701514896: TensorSpec(shape=(), dtype=tf.resource, name=None)\n",
            "  136985706027856: TensorSpec(shape=(), dtype=tf.resource, name=None)\n",
            "  136985706026320: TensorSpec(shape=(), dtype=tf.resource, name=None)\n",
            "  136985701512208: TensorSpec(shape=(), dtype=tf.resource, name=None)\n",
            "  136985701512976: TensorSpec(shape=(), dtype=tf.resource, name=None)\n",
            "  136985706024016: TensorSpec(shape=(), dtype=tf.resource, name=None)\n",
            "  136985706028240: TensorSpec(shape=(), dtype=tf.resource, name=None)\n",
            "  136985706028432: TensorSpec(shape=(), dtype=tf.resource, name=None)\n",
            "  136985706021136: TensorSpec(shape=(), dtype=tf.resource, name=None)\n",
            "  136985706026704: TensorSpec(shape=(), dtype=tf.resource, name=None)\n",
            "  136985706026896: TensorSpec(shape=(), dtype=tf.resource, name=None)\n",
            "  136985706020944: TensorSpec(shape=(), dtype=tf.resource, name=None)\n",
            "  136985706022096: TensorSpec(shape=(), dtype=tf.resource, name=None)\n",
            "  136985706021904: TensorSpec(shape=(), dtype=tf.resource, name=None)\n",
            "  136985701509136: TensorSpec(shape=(), dtype=tf.resource, name=None)\n",
            "  136985701513360: TensorSpec(shape=(), dtype=tf.resource, name=None)\n",
            "  136985701513552: TensorSpec(shape=(), dtype=tf.resource, name=None)\n",
            "  136985706030928: TensorSpec(shape=(), dtype=tf.resource, name=None)\n",
            "  136985706027088: TensorSpec(shape=(), dtype=tf.resource, name=None)\n",
            "  136985706031312: TensorSpec(shape=(), dtype=tf.resource, name=None)\n",
            "  136985706031504: TensorSpec(shape=(), dtype=tf.resource, name=None)\n",
            "  136985706032464: TensorSpec(shape=(), dtype=tf.resource, name=None)\n",
            "  136985706028624: TensorSpec(shape=(), dtype=tf.resource, name=None)\n",
            "  136985706032848: TensorSpec(shape=(), dtype=tf.resource, name=None)\n",
            "  136985706033040: TensorSpec(shape=(), dtype=tf.resource, name=None)\n",
            "  136985706034000: TensorSpec(shape=(), dtype=tf.resource, name=None)\n",
            "  136985706029392: TensorSpec(shape=(), dtype=tf.resource, name=None)\n",
            "  136985706030160: TensorSpec(shape=(), dtype=tf.resource, name=None)\n",
            "  136985706034384: TensorSpec(shape=(), dtype=tf.resource, name=None)\n",
            "  136985706034576: TensorSpec(shape=(), dtype=tf.resource, name=None)\n",
            "  136985706025552: TensorSpec(shape=(), dtype=tf.resource, name=None)\n",
            "  136985706029776: TensorSpec(shape=(), dtype=tf.resource, name=None)\n",
            "  136985706029968: TensorSpec(shape=(), dtype=tf.resource, name=None)\n",
            "  136985706549648: TensorSpec(shape=(), dtype=tf.resource, name=None)\n",
            "  136985706546768: TensorSpec(shape=(), dtype=tf.resource, name=None)\n",
            "  136985706550032: TensorSpec(shape=(), dtype=tf.resource, name=None)\n",
            "  136985706550224: TensorSpec(shape=(), dtype=tf.resource, name=None)\n",
            "  136985706551184: TensorSpec(shape=(), dtype=tf.resource, name=None)\n",
            "  136985706548112: TensorSpec(shape=(), dtype=tf.resource, name=None)\n",
            "  136985706551568: TensorSpec(shape=(), dtype=tf.resource, name=None)\n",
            "  136985706551760: TensorSpec(shape=(), dtype=tf.resource, name=None)\n",
            "  136985706552720: TensorSpec(shape=(), dtype=tf.resource, name=None)\n",
            "  136985706037072: TensorSpec(shape=(), dtype=tf.resource, name=None)\n",
            "  136985706548880: TensorSpec(shape=(), dtype=tf.resource, name=None)\n",
            "  136985706553104: TensorSpec(shape=(), dtype=tf.resource, name=None)\n",
            "  136985706553296: TensorSpec(shape=(), dtype=tf.resource, name=None)\n",
            "  136985706036304: TensorSpec(shape=(), dtype=tf.resource, name=None)\n",
            "  136985706033232: TensorSpec(shape=(), dtype=tf.resource, name=None)\n",
            "  136985706036688: TensorSpec(shape=(), dtype=tf.resource, name=None)\n",
            "  136985706554256: TensorSpec(shape=(), dtype=tf.resource, name=None)\n",
            "  136985706545616: TensorSpec(shape=(), dtype=tf.resource, name=None)\n",
            "  136985706550416: TensorSpec(shape=(), dtype=tf.resource, name=None)\n",
            "  136985706554640: TensorSpec(shape=(), dtype=tf.resource, name=None)\n",
            "  136985706554832: TensorSpec(shape=(), dtype=tf.resource, name=None)\n",
            "  136985706546960: TensorSpec(shape=(), dtype=tf.resource, name=None)\n",
            "  136985706547920: TensorSpec(shape=(), dtype=tf.resource, name=None)\n",
            "  136985706545424: TensorSpec(shape=(), dtype=tf.resource, name=None)\n",
            "  136985706557328: TensorSpec(shape=(), dtype=tf.resource, name=None)\n",
            "  136985706555792: TensorSpec(shape=(), dtype=tf.resource, name=None)\n",
            "  136985706547344: TensorSpec(shape=(), dtype=tf.resource, name=None)\n",
            "  136985706035536: TensorSpec(shape=(), dtype=tf.resource, name=None)\n",
            "  136985706553488: TensorSpec(shape=(), dtype=tf.resource, name=None)\n",
            "  136985706557712: TensorSpec(shape=(), dtype=tf.resource, name=None)\n",
            "  136985706557904: TensorSpec(shape=(), dtype=tf.resource, name=None)\n",
            "  136985706551952: TensorSpec(shape=(), dtype=tf.resource, name=None)\n",
            "  136985706556176: TensorSpec(shape=(), dtype=tf.resource, name=None)\n",
            "  136985706556368: TensorSpec(shape=(), dtype=tf.resource, name=None)\n",
            "  136985706547152: TensorSpec(shape=(), dtype=tf.resource, name=None)\n",
            "  136985706545808: TensorSpec(shape=(), dtype=tf.resource, name=None)\n",
            "  136985706548688: TensorSpec(shape=(), dtype=tf.resource, name=None)\n",
            "  136985706031696: TensorSpec(shape=(), dtype=tf.resource, name=None)\n",
            "  136985706035920: TensorSpec(shape=(), dtype=tf.resource, name=None)\n",
            "  136985706036112: TensorSpec(shape=(), dtype=tf.resource, name=None)\n",
            "  136985704926672: TensorSpec(shape=(), dtype=tf.resource, name=None)\n",
            "  136985704923216: TensorSpec(shape=(), dtype=tf.resource, name=None)\n",
            "  136985704927056: TensorSpec(shape=(), dtype=tf.resource, name=None)\n",
            "  136985704927248: TensorSpec(shape=(), dtype=tf.resource, name=None)\n",
            "  136985704928208: TensorSpec(shape=(), dtype=tf.resource, name=None)\n",
            "  136985704924368: TensorSpec(shape=(), dtype=tf.resource, name=None)\n",
            "  136985704928592: TensorSpec(shape=(), dtype=tf.resource, name=None)\n",
            "  136985704928784: TensorSpec(shape=(), dtype=tf.resource, name=None)\n",
            "  136985704929744: TensorSpec(shape=(), dtype=tf.resource, name=None)\n",
            "  136985706560400: TensorSpec(shape=(), dtype=tf.resource, name=None)\n",
            "  136985704925904: TensorSpec(shape=(), dtype=tf.resource, name=None)\n",
            "  136985704930128: TensorSpec(shape=(), dtype=tf.resource, name=None)\n",
            "  136985704930320: TensorSpec(shape=(), dtype=tf.resource, name=None)\n",
            "  136985706556560: TensorSpec(shape=(), dtype=tf.resource, name=None)\n",
            "  136985706560016: TensorSpec(shape=(), dtype=tf.resource, name=None)\n",
            "  136985706560976: TensorSpec(shape=(), dtype=tf.resource, name=None)\n",
            "  136985704931280: TensorSpec(shape=(), dtype=tf.resource, name=None)\n",
            "  136985706558480: TensorSpec(shape=(), dtype=tf.resource, name=None)\n",
            "  136985704927440: TensorSpec(shape=(), dtype=tf.resource, name=None)\n",
            "  136985704931664: TensorSpec(shape=(), dtype=tf.resource, name=None)\n",
            "  136985704931856: TensorSpec(shape=(), dtype=tf.resource, name=None)\n",
            "  136985704923408: TensorSpec(shape=(), dtype=tf.resource, name=None)\n",
            "  136985704923792: TensorSpec(shape=(), dtype=tf.resource, name=None)\n",
            "  136985706561168: TensorSpec(shape=(), dtype=tf.resource, name=None)\n",
            "  136985704934352: TensorSpec(shape=(), dtype=tf.resource, name=None)\n",
            "  136985704932816: TensorSpec(shape=(), dtype=tf.resource, name=None)\n",
            "  136985704925136: TensorSpec(shape=(), dtype=tf.resource, name=None)\n",
            "  136985706558864: TensorSpec(shape=(), dtype=tf.resource, name=None)\n",
            "  136985704930512: TensorSpec(shape=(), dtype=tf.resource, name=None)\n",
            "  136985704934736: TensorSpec(shape=(), dtype=tf.resource, name=None)\n",
            "  136985704934928: TensorSpec(shape=(), dtype=tf.resource, name=None)\n",
            "  136985704928976: TensorSpec(shape=(), dtype=tf.resource, name=None)\n",
            "  136985704933200: TensorSpec(shape=(), dtype=tf.resource, name=None)\n",
            "  136985704933392: TensorSpec(shape=(), dtype=tf.resource, name=None)\n",
            "  136985704923600: TensorSpec(shape=(), dtype=tf.resource, name=None)\n",
            "  136985704925520: TensorSpec(shape=(), dtype=tf.resource, name=None)\n",
            "  136985704925712: TensorSpec(shape=(), dtype=tf.resource, name=None)\n",
            "  136985706555024: TensorSpec(shape=(), dtype=tf.resource, name=None)\n",
            "  136985706559248: TensorSpec(shape=(), dtype=tf.resource, name=None)\n",
            "  136985706559440: TensorSpec(shape=(), dtype=tf.resource, name=None)\n",
            "  136985705384464: TensorSpec(shape=(), dtype=tf.resource, name=None)\n",
            "  136985705382544: TensorSpec(shape=(), dtype=tf.resource, name=None)\n",
            "  136985705384848: TensorSpec(shape=(), dtype=tf.resource, name=None)\n",
            "  136985705385040: TensorSpec(shape=(), dtype=tf.resource, name=None)\n",
            "  136985705386000: TensorSpec(shape=(), dtype=tf.resource, name=None)\n",
            "  136985705381968: TensorSpec(shape=(), dtype=tf.resource, name=None)\n",
            "  136985705386384: TensorSpec(shape=(), dtype=tf.resource, name=None)\n",
            "  136985705386576: TensorSpec(shape=(), dtype=tf.resource, name=None)\n",
            "  136985705387536: TensorSpec(shape=(), dtype=tf.resource, name=None)\n",
            "  136985704937424: TensorSpec(shape=(), dtype=tf.resource, name=None)\n",
            "  136985705383696: TensorSpec(shape=(), dtype=tf.resource, name=None)\n",
            "  136985705387920: TensorSpec(shape=(), dtype=tf.resource, name=None)\n",
            "  136985705388112: TensorSpec(shape=(), dtype=tf.resource, name=None)\n",
            "  136985704933584: TensorSpec(shape=(), dtype=tf.resource, name=None)\n",
            "  136985704937808: TensorSpec(shape=(), dtype=tf.resource, name=None)\n",
            "  136985704938000: TensorSpec(shape=(), dtype=tf.resource, name=None)\n",
            "  136985705389072: TensorSpec(shape=(), dtype=tf.resource, name=None)\n",
            "  136985704938960: TensorSpec(shape=(), dtype=tf.resource, name=None)\n",
            "  136985705385232: TensorSpec(shape=(), dtype=tf.resource, name=None)\n",
            "  136985705389456: TensorSpec(shape=(), dtype=tf.resource, name=None)\n",
            "  136985705389648: TensorSpec(shape=(), dtype=tf.resource, name=None)\n",
            "  136985704938192: TensorSpec(shape=(), dtype=tf.resource, name=None)\n",
            "  136985704936656: TensorSpec(shape=(), dtype=tf.resource, name=None)\n",
            "  136985704939152: TensorSpec(shape=(), dtype=tf.resource, name=None)\n",
            "  136985705392144: TensorSpec(shape=(), dtype=tf.resource, name=None)\n",
            "  136985705390608: TensorSpec(shape=(), dtype=tf.resource, name=None)\n",
            "  136985704939344: TensorSpec(shape=(), dtype=tf.resource, name=None)\n",
            "  136985704935888: TensorSpec(shape=(), dtype=tf.resource, name=None)\n",
            "  136985705388304: TensorSpec(shape=(), dtype=tf.resource, name=None)\n",
            "  136985705392528: TensorSpec(shape=(), dtype=tf.resource, name=None)\n",
            "  136985705392720: TensorSpec(shape=(), dtype=tf.resource, name=None)\n",
            "  136985705386768: TensorSpec(shape=(), dtype=tf.resource, name=None)\n",
            "  136985705390992: TensorSpec(shape=(), dtype=tf.resource, name=None)\n",
            "  136985705391184: TensorSpec(shape=(), dtype=tf.resource, name=None)\n",
            "  136985705382160: TensorSpec(shape=(), dtype=tf.resource, name=None)\n",
            "  136985705383312: TensorSpec(shape=(), dtype=tf.resource, name=None)\n",
            "  136985705383504: TensorSpec(shape=(), dtype=tf.resource, name=None)\n",
            "  136985704932048: TensorSpec(shape=(), dtype=tf.resource, name=None)\n",
            "  136985704936272: TensorSpec(shape=(), dtype=tf.resource, name=None)\n",
            "  136985704936464: TensorSpec(shape=(), dtype=tf.resource, name=None)\n",
            "  136985705924176: TensorSpec(shape=(), dtype=tf.resource, name=None)\n",
            "  136985705923024: TensorSpec(shape=(), dtype=tf.resource, name=None)\n",
            "  136985705924560: TensorSpec(shape=(), dtype=tf.resource, name=None)\n",
            "  136985705924752: TensorSpec(shape=(), dtype=tf.resource, name=None)\n",
            "  136985705925712: TensorSpec(shape=(), dtype=tf.resource, name=None)\n",
            "  136985705923792: TensorSpec(shape=(), dtype=tf.resource, name=None)\n",
            "  136985705926096: TensorSpec(shape=(), dtype=tf.resource, name=None)\n",
            "  136985705926288: TensorSpec(shape=(), dtype=tf.resource, name=None)\n",
            "  136985705927248: TensorSpec(shape=(), dtype=tf.resource, name=None)\n",
            "  136985705395216: TensorSpec(shape=(), dtype=tf.resource, name=None)\n",
            "  136985705923600: TensorSpec(shape=(), dtype=tf.resource, name=None)\n",
            "  136985705927632: TensorSpec(shape=(), dtype=tf.resource, name=None)\n",
            "  136985705927824: TensorSpec(shape=(), dtype=tf.resource, name=None)\n",
            "  136985705391376: TensorSpec(shape=(), dtype=tf.resource, name=None)\n",
            "  136985705395600: TensorSpec(shape=(), dtype=tf.resource, name=None)\n",
            "  136985705395792: TensorSpec(shape=(), dtype=tf.resource, name=None)\n",
            "  136985705928784: TensorSpec(shape=(), dtype=tf.resource, name=None)\n",
            "  136985705396752: TensorSpec(shape=(), dtype=tf.resource, name=None)\n",
            "  136985705924944: TensorSpec(shape=(), dtype=tf.resource, name=None)\n",
            "  136985705929168: TensorSpec(shape=(), dtype=tf.resource, name=None)\n",
            "  136985705929360: TensorSpec(shape=(), dtype=tf.resource, name=None)\n",
            "  136985705392912: TensorSpec(shape=(), dtype=tf.resource, name=None)\n",
            "  136985705397136: TensorSpec(shape=(), dtype=tf.resource, name=None)\n",
            "  136985705397328: TensorSpec(shape=(), dtype=tf.resource, name=None)\n",
            "  136985705931856: TensorSpec(shape=(), dtype=tf.resource, name=None)\n",
            "  136985705930320: TensorSpec(shape=(), dtype=tf.resource, name=None)\n",
            "  136985705394448: TensorSpec(shape=(), dtype=tf.resource, name=None)\n",
            "  136985705393680: TensorSpec(shape=(), dtype=tf.resource, name=None)\n",
            "  136985705928016: TensorSpec(shape=(), dtype=tf.resource, name=None)\n",
            "  136985705932240: TensorSpec(shape=(), dtype=tf.resource, name=None)\n",
            "  136985705932432: TensorSpec(shape=(), dtype=tf.resource, name=None)\n",
            "  136985705926480: TensorSpec(shape=(), dtype=tf.resource, name=None)\n",
            "  136985705930704: TensorSpec(shape=(), dtype=tf.resource, name=None)\n",
            "  136985705930896: TensorSpec(shape=(), dtype=tf.resource, name=None)\n",
            "  136985705394832: TensorSpec(shape=(), dtype=tf.resource, name=None)\n",
            "  136985705922832: TensorSpec(shape=(), dtype=tf.resource, name=None)\n",
            "  136985705397520: TensorSpec(shape=(), dtype=tf.resource, name=None)\n",
            "  136985705389840: TensorSpec(shape=(), dtype=tf.resource, name=None)\n",
            "  136985705394064: TensorSpec(shape=(), dtype=tf.resource, name=None)\n",
            "  136985705394256: TensorSpec(shape=(), dtype=tf.resource, name=None)\n",
            "  136985705936464: TensorSpec(shape=(), dtype=tf.resource, name=None)\n",
            "  136985705932624: TensorSpec(shape=(), dtype=tf.resource, name=None)\n",
            "  136985705936848: TensorSpec(shape=(), dtype=tf.resource, name=None)\n",
            "  136985705937040: TensorSpec(shape=(), dtype=tf.resource, name=None)\n",
            "  136985705938000: TensorSpec(shape=(), dtype=tf.resource, name=None)\n",
            "  136985705934160: TensorSpec(shape=(), dtype=tf.resource, name=None)\n",
            "  136985705937616: TensorSpec(shape=(), dtype=tf.resource, name=None)\n",
            "  136985705938576: TensorSpec(shape=(), dtype=tf.resource, name=None)\n",
            "  136985705937232: TensorSpec(shape=(), dtype=tf.resource, name=None)\n",
            "  136985705933392: TensorSpec(shape=(), dtype=tf.resource, name=None)\n",
            "  136985704318160: TensorSpec(shape=(), dtype=tf.resource, name=None)\n",
            "  136985704317200: TensorSpec(shape=(), dtype=tf.resource, name=None)\n",
            "  136985705935696: TensorSpec(shape=(), dtype=tf.resource, name=None)\n",
            "  136985705929552: TensorSpec(shape=(), dtype=tf.resource, name=None)\n",
            "  136985705933776: TensorSpec(shape=(), dtype=tf.resource, name=None)\n",
            "  136985705933968: TensorSpec(shape=(), dtype=tf.resource, name=None)\n",
            "  136985704319120: TensorSpec(shape=(), dtype=tf.resource, name=None)\n",
            "  136985705934928: TensorSpec(shape=(), dtype=tf.resource, name=None)\n",
            "  136985704317584: TensorSpec(shape=(), dtype=tf.resource, name=None)\n",
            "  136985704319504: TensorSpec(shape=(), dtype=tf.resource, name=None)\n",
            "  136985704319696: TensorSpec(shape=(), dtype=tf.resource, name=None)\n",
            "  136985705931088: TensorSpec(shape=(), dtype=tf.resource, name=None)\n",
            "  136985705935312: TensorSpec(shape=(), dtype=tf.resource, name=None)\n",
            "  136985705935504: TensorSpec(shape=(), dtype=tf.resource, name=None)\n",
            "  136985704326800: TensorSpec(shape=(), dtype=tf.resource, name=None)\n",
            "  136985704322960: TensorSpec(shape=(), dtype=tf.resource, name=None)\n",
            "  136985704327184: TensorSpec(shape=(), dtype=tf.resource, name=None)\n",
            "  136985704327376: TensorSpec(shape=(), dtype=tf.resource, name=None)\n",
            "  136985704328336: TensorSpec(shape=(), dtype=tf.resource, name=None)\n",
            "  136985704322192: TensorSpec(shape=(), dtype=tf.resource, name=None)\n",
            "  136985704324496: TensorSpec(shape=(), dtype=tf.resource, name=None)\n",
            "  136985704328720: TensorSpec(shape=(), dtype=tf.resource, name=None)\n",
            "  136985704328912: TensorSpec(shape=(), dtype=tf.resource, name=None)\n",
            "  136985704318352: TensorSpec(shape=(), dtype=tf.resource, name=None)\n",
            "  136985704322576: TensorSpec(shape=(), dtype=tf.resource, name=None)\n",
            "  136985704322768: TensorSpec(shape=(), dtype=tf.resource, name=None)\n",
            "  136985704331408: TensorSpec(shape=(), dtype=tf.resource, name=None)\n",
            "  136985704329872: TensorSpec(shape=(), dtype=tf.resource, name=None)\n",
            "  136985704325264: TensorSpec(shape=(), dtype=tf.resource, name=None)\n",
            "  136985704323728: TensorSpec(shape=(), dtype=tf.resource, name=None)\n",
            "  136985704332944: TensorSpec(shape=(), dtype=tf.resource, name=None)\n",
            "  136985704327568: TensorSpec(shape=(), dtype=tf.resource, name=None)\n",
            "  136985704331792: TensorSpec(shape=(), dtype=tf.resource, name=None)\n",
            "  136985704331984: TensorSpec(shape=(), dtype=tf.resource, name=None)\n",
            "  136985704326032: TensorSpec(shape=(), dtype=tf.resource, name=None)\n",
            "  136985704330256: TensorSpec(shape=(), dtype=tf.resource, name=None)\n",
            "  136985704330448: TensorSpec(shape=(), dtype=tf.resource, name=None)\n",
            "  136985704321424: TensorSpec(shape=(), dtype=tf.resource, name=None)\n",
            "  136985704325648: TensorSpec(shape=(), dtype=tf.resource, name=None)\n",
            "  136985704325840: TensorSpec(shape=(), dtype=tf.resource, name=None)\n",
            "  136985704319888: TensorSpec(shape=(), dtype=tf.resource, name=None)\n",
            "  136985704324112: TensorSpec(shape=(), dtype=tf.resource, name=None)\n",
            "  136985704324304: TensorSpec(shape=(), dtype=tf.resource, name=None)\n",
            "  136985704320656: TensorSpec(shape=(), dtype=tf.resource, name=None)\n",
            "  136985704332176: TensorSpec(shape=(), dtype=tf.resource, name=None)\n",
            "  136985704330640: TensorSpec(shape=(), dtype=tf.resource, name=None)\n",
            "  136985704332560: TensorSpec(shape=(), dtype=tf.resource, name=None)\n",
            "  136985704317968: TensorSpec(shape=(), dtype=tf.resource, name=None)\n",
            "  136985704321040: TensorSpec(shape=(), dtype=tf.resource, name=None)\n",
            "  136985704321232: TensorSpec(shape=(), dtype=tf.resource, name=None)\n",
            "  136985704881360: TensorSpec(shape=(), dtype=tf.resource, name=None)\n",
            "  136985704879440: TensorSpec(shape=(), dtype=tf.resource, name=None)\n",
            "  136985704881744: TensorSpec(shape=(), dtype=tf.resource, name=None)\n",
            "  136985704881936: TensorSpec(shape=(), dtype=tf.resource, name=None)\n",
            "  136985704882896: TensorSpec(shape=(), dtype=tf.resource, name=None)\n",
            "  136985704876752: TensorSpec(shape=(), dtype=tf.resource, name=None)\n",
            "  136985704879056: TensorSpec(shape=(), dtype=tf.resource, name=None)\n",
            "  136985704883280: TensorSpec(shape=(), dtype=tf.resource, name=None)\n",
            "  136985704883472: TensorSpec(shape=(), dtype=tf.resource, name=None)\n",
            "  136985704874832: TensorSpec(shape=(), dtype=tf.resource, name=None)\n",
            "  136985704877136: TensorSpec(shape=(), dtype=tf.resource, name=None)\n",
            "  136985704877328: TensorSpec(shape=(), dtype=tf.resource, name=None)\n",
            "  136985704885968: TensorSpec(shape=(), dtype=tf.resource, name=None)\n",
            "  136985704884432: TensorSpec(shape=(), dtype=tf.resource, name=None)\n",
            "  136985704879824: TensorSpec(shape=(), dtype=tf.resource, name=None)\n",
            "  136985704878288: TensorSpec(shape=(), dtype=tf.resource, name=None)\n",
            "  136985704887504: TensorSpec(shape=(), dtype=tf.resource, name=None)\n",
            "  136985704882128: TensorSpec(shape=(), dtype=tf.resource, name=None)\n",
            "  136985704886352: TensorSpec(shape=(), dtype=tf.resource, name=None)\n",
            "  136985704886544: TensorSpec(shape=(), dtype=tf.resource, name=None)\n",
            "  136985704880976: TensorSpec(shape=(), dtype=tf.resource, name=None)\n",
            "  136985704884816: TensorSpec(shape=(), dtype=tf.resource, name=None)\n",
            "  136985704885008: TensorSpec(shape=(), dtype=tf.resource, name=None)\n",
            "  136985704875984: TensorSpec(shape=(), dtype=tf.resource, name=None)\n",
            "  136985704880592: TensorSpec(shape=(), dtype=tf.resource, name=None)\n",
            "  136985704877520: TensorSpec(shape=(), dtype=tf.resource, name=None)\n",
            "  136985704875024: TensorSpec(shape=(), dtype=tf.resource, name=None)\n",
            "  136985704878672: TensorSpec(shape=(), dtype=tf.resource, name=None)\n",
            "  136985704878864: TensorSpec(shape=(), dtype=tf.resource, name=None)\n",
            "  136985704874256: TensorSpec(shape=(), dtype=tf.resource, name=None)\n",
            "  136985704883664: TensorSpec(shape=(), dtype=tf.resource, name=None)\n",
            "  136985704887888: TensorSpec(shape=(), dtype=tf.resource, name=None)\n",
            "  136985704888080: TensorSpec(shape=(), dtype=tf.resource, name=None)\n",
            "  136985704874448: TensorSpec(shape=(), dtype=tf.resource, name=None)\n",
            "  136985704875600: TensorSpec(shape=(), dtype=tf.resource, name=None)\n",
            "  136985704875792: TensorSpec(shape=(), dtype=tf.resource, name=None)\n",
            "  136985569758288: TensorSpec(shape=(), dtype=tf.resource, name=None)\n",
            "  136985569759632: TensorSpec(shape=(), dtype=tf.resource, name=None)\n",
            "  136985569758096: TensorSpec(shape=(), dtype=tf.resource, name=None)\n",
            "  136985569761360: TensorSpec(shape=(), dtype=tf.resource, name=None)\n"
          ]
        }
      ]
    }
  ]
}